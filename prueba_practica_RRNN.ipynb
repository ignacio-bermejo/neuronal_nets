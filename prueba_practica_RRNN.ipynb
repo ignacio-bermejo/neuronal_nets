{
  "nbformat": 4,
  "nbformat_minor": 0,
  "metadata": {
    "colab": {
      "name": "prueba_practica_RRNN.ipynb",
      "provenance": [],
      "collapsed_sections": []
    },
    "kernelspec": {
      "name": "python3",
      "display_name": "Python 3"
    }
  },
  "cells": [
    {
      "cell_type": "markdown",
      "metadata": {
        "id": "2wPtItcQdkPe"
      },
      "source": [
        "<font color=\"#CA3532\"><h1 align=\"left\">Inteligencia Artificial Aplicada a la Bolsa (MIAX-6)</h1></font>\n",
        "<font color=\"#5b5a59\"><h2 align=\"left\">Práctica sobre Redes Neuronales</h2></font>\n",
        "\n",
        "En esta práctica desarrollarás con Keras y TensorFlow varios modelos de redes neuronales de diferente complejidad. \n",
        "\n",
        "Todas las respuestas a los ejercicios de la práctica se deben incluir en este mismo notebook, bien completando el código en los lugares indicados, bien respondiendo a las preguntas planteadas. \n",
        "\n",
        "*Versión 1, actualizada el 28-05-2021*\n",
        "\n"
      ]
    },
    {
      "cell_type": "markdown",
      "metadata": {
        "id": "suTVxA4fRf1x"
      },
      "source": [
        "### <font color=\"#CA3532\">Instrucciones</font>\n",
        "\n",
        "- La práctica se realizará de manera individual.\n",
        "\n",
        "- Sólo debes entregar este notebook con las soluciones a los ejercicios planteados.\n",
        "\n",
        "- La entrega se realizará a través de la plataforma de Instituto BME antes de que acabe el plazo establecido.\n",
        "\n",
        "- No olvides incluir tu nombre y apellidos en el siguiente bloque de código.\n"
      ]
    },
    {
      "cell_type": "code",
      "metadata": {
        "id": "WM96prtSiQb8"
      },
      "source": [
        "# TO-DO: Incluye tu nombre y apellidos aqui:\n",
        "student_data = {'nombre': 'Ignacio', 'apellidos': 'Bermejo Embid'}"
      ],
      "execution_count": null,
      "outputs": []
    },
    {
      "cell_type": "markdown",
      "metadata": {
        "id": "3tShfjNQUROw"
      },
      "source": [
        "### <font color=\"#CA3532\">Acceso al material de la práctica</font>\n",
        "\n",
        "La forma más sencilla de acceder a todo el material de la práctica es clonar este repositorio de ``github``:"
      ]
    },
    {
      "cell_type": "code",
      "metadata": {
        "colab": {
          "base_uri": "https://localhost:8080/"
        },
        "id": "JgMPzSlDjwR-",
        "outputId": "84800c87-5a31-4e1e-9913-6129c767ef39"
      },
      "source": [
        "!git clone https://github.com/luisferuam/MIAX6"
      ],
      "execution_count": null,
      "outputs": [
        {
          "output_type": "stream",
          "text": [
            "fatal: destination path 'MIAX6' already exists and is not an empty directory.\n"
          ],
          "name": "stdout"
        }
      ]
    },
    {
      "cell_type": "markdown",
      "metadata": {
        "id": "2cpn7FKNSGkx"
      },
      "source": [
        "### <font color=\"#CA3532\">Carga de librerías</font>\n",
        "\n",
        "La siguiente celda carga todas las librerías necesarias para la práctica. Si necesitas alguna librería adicional inclúyela al final."
      ]
    },
    {
      "cell_type": "code",
      "metadata": {
        "id": "n7HI06dkTdVs"
      },
      "source": [
        "%tensorflow_version 2.x\n",
        "import tensorflow as tf\n",
        "from tensorflow import keras\n",
        "\n",
        "import numpy as np\n",
        "import pandas as pd\n",
        "import matplotlib.pyplot as plt\n",
        "from mpl_toolkits import mplot3d\n",
        "import pickle\n",
        "from sklearn.model_selection import train_test_split\n",
        "from sklearn.preprocessing import StandardScaler\n",
        "\n",
        "import sys\n",
        "sys.path.append('MIAX6')\n",
        "#import dlfbt\n",
        "from MIAX6 import dlfbt\n",
        "\n",
        "# Incluye aquí otros imports que necesites\n",
        "from tensorflow.keras import layers\n",
        "from tensorflow.keras import initializers"
      ],
      "execution_count": null,
      "outputs": []
    },
    {
      "cell_type": "markdown",
      "metadata": {
        "id": "9KuO4nE6U93C"
      },
      "source": [
        "### <font color=\"#CA3532\">Parte I: Modelos sencillos con Keras</font>\n",
        "\n",
        "Los primeros modelos los haremos con datos generados de manera artificial. La siguiente celda crea un problema de regresión en una dimensión y representa gráficamente ``t`` frente a ``x``:"
      ]
    },
    {
      "cell_type": "code",
      "metadata": {
        "colab": {
          "base_uri": "https://localhost:8080/",
          "height": 368
        },
        "id": "rhPxTUCayDrc",
        "outputId": "c5b58925-6c6f-4bc6-ce44-7008227b9073"
      },
      "source": [
        "dg = dlfbt.DataGeneratorLinear1D()\n",
        "dg.create_dataset(seed=21)\n",
        "dg.plot_dataset()\n",
        "\n",
        "print(\"Forma de x:\", dg.x.shape)\n",
        "print(\"Forma de t:\", dg.t.shape)"
      ],
      "execution_count": null,
      "outputs": [
        {
          "output_type": "display_data",
          "data": {
            "image/png": "[encoded data removed]",
            "text/plain": [
              "<Figure size 360x360 with 1 Axes>"
            ]
          },
          "metadata": {
            "tags": [],
            "needs_background": "light"
          }
        },
        {
          "output_type": "stream",
          "text": [
            "Forma de x: (100, 1)\n",
            "Forma de t: (100, 1)\n"
          ],
          "name": "stdout"
        }
      ]
    },
    {
      "cell_type": "markdown",
      "metadata": {
        "id": "moF1uhKfZB_9"
      },
      "source": [
        "#### <font color=\"#CA3532\">Ejercicio 1</font> [1 punto]\n",
        "\n",
        "Construye en Keras un modelo de regresión lineal para predecir la variable ``t`` a partir de la variable ``x``."
      ]
    },
    {
      "cell_type": "markdown",
      "metadata": {
        "id": "mXwnVJ-4bzCV"
      },
      "source": [
        "<font color=\"#CA3532\">[1.1]</font> Define del modelo completando el código de la celda siguiente:"
      ]
    },
    {
      "cell_type": "code",
      "metadata": {
        "id": "Fif0ZXlaZzVq",
        "colab": {
          "base_uri": "https://localhost:8080/"
        },
        "outputId": "f307186c-f69c-436d-b3b7-fc11554de479"
      },
      "source": [
        "model = keras.Sequential()\n",
        "\n",
        "#-------------------------------------------------------------\n",
        "# TO-DO: Incluye aquí las capas necesarias\n",
        "x=dg.x\n",
        "t=dg.t\n",
        "\n",
        "#construyo el modelo\n",
        "model = keras.Sequential()\n",
        "#meter aqui las capas de las redes neuronales\n",
        "model.add(keras.layers.Dense(30,input_shape=(1,) ,activation=\"relu\", name=\"oculta\"))\n",
        "model.add(keras.layers.Dense(1, name=\"salida\"))\n",
        "\n",
        "\n",
        "\n",
        "#-------------------------------------------------------------\n",
        "\n",
        "model.summary()"
      ],
      "execution_count": null,
      "outputs": [
        {
          "output_type": "stream",
          "text": [
            "Model: \"sequential_7\"\n",
            "_________________________________________________________________\n",
            "Layer (type)                 Output Shape              Param #   \n",
            "=================================================================\n",
            "oculta (Dense)               (None, 30)                60        \n",
            "_________________________________________________________________\n",
            "salida (Dense)               (None, 1)                 31        \n",
            "=================================================================\n",
            "Total params: 91\n",
            "Trainable params: 91\n",
            "Non-trainable params: 0\n",
            "_________________________________________________________________\n"
          ],
          "name": "stdout"
        }
      ]
    },
    {
      "cell_type": "code",
      "metadata": {
        "id": "Yr13mMt1DndP"
      },
      "source": [
        ""
      ],
      "execution_count": null,
      "outputs": []
    },
    {
      "cell_type": "markdown",
      "metadata": {
        "id": "_CQBA5auc3V1"
      },
      "source": [
        "<font color=\"#CA3532\">[1.2]</font> Compila el modelo, utilizando un optimizador SGD y la función de coste más apropiada para este problema. El learning rate lo deberás ajustar para que el entrenamiento converja:"
      ]
    },
    {
      "cell_type": "code",
      "metadata": {
        "id": "kOc2r4IJZzRO"
      },
      "source": [
        "#-------------------------------------------------------------\n",
        "# TO-DO: Compila el modelo\n",
        "model.compile(optimizer=keras.optimizers.SGD(learning_rate=0.001),\n",
        "              loss='mse',\n",
        "              metrics=['acc'])\n",
        "\n",
        "#entrenamos el modelo\n",
        "#------------------------------------------------------------"
      ],
      "execution_count": null,
      "outputs": []
    },
    {
      "cell_type": "markdown",
      "metadata": {
        "id": "1RLyKzMddf8r"
      },
      "source": [
        "La siguiente celda ajusta tu modelo a los datos y muestra gráficamente el resultado:"
      ]
    },
    {
      "cell_type": "code",
      "metadata": {
        "id": "Y9ojYhKuZzMJ",
        "colab": {
          "base_uri": "https://localhost:8080/",
          "height": 283
        },
        "outputId": "83390e52-c0ae-4142-b01d-b9b1c89dbd25"
      },
      "source": [
        "history = model.fit(dg.x, dg.t, epochs=1000, batch_size=dg.x.shape[0], verbose=0)\n",
        "y = model.predict(dg.x)\n",
        "\n",
        "plt.figure(figsize=(10, 4))\n",
        "\n",
        "plt.subplot(1, 2, 1)\n",
        "plt.plot(history.history['loss'])\n",
        "plt.grid(True)\n",
        "plt.xlabel('epoch')\n",
        "plt.ylabel('MSE')\n",
        "\n",
        "plt.subplot(1, 2, 2)\n",
        "plt.plot(dg.x, dg.t, '.')\n",
        "plt.plot(dg.x, y, 'r-')\n",
        "plt.grid(True)\n",
        "plt.xlabel('x')\n",
        "plt.ylabel('t')\n",
        "plt.legend(('real', 'predicted'))\n",
        "plt.show()"
      ],
      "execution_count": null,
      "outputs": [
        {
          "output_type": "display_data",
          "data": {
            "image/png": "[encoded data removed]",
            "text/plain": [
              "<Figure size 720x288 with 2 Axes>"
            ]
          },
          "metadata": {
            "tags": [],
            "needs_background": "light"
          }
        }
      ]
    },
    {
      "cell_type": "markdown",
      "metadata": {
        "id": "IEF5KIFBzgX3"
      },
      "source": [
        "#### <font color=\"#CA3532\">Ejercicio 2</font> [1 punto] \n",
        "\n",
        "A continuación vas a resolver un problema de regresión no lineal, también en una dimensión. La siguiente celda crea el problema y representa gráficamente ``t`` frente a ``x``:"
      ]
    },
    {
      "cell_type": "code",
      "metadata": {
        "colab": {
          "base_uri": "https://localhost:8080/",
          "height": 368
        },
        "id": "yDOreCXezVrP",
        "outputId": "d9140054-ba7c-4052-f7e4-e37cff75cc8e"
      },
      "source": [
        "dg = dlfbt.DataGeneratorNonLinear1D(coefs=[0, 1, 0, -0.15, 0, 0.005])\n",
        "dg.create_dataset(xmin=-3.14, xmax=3.14, noise=0.1, seed=21)\n",
        "dg.plot_dataset()\n",
        "\n",
        "print(\"Forma de x:\", dg.x.shape)\n",
        "print(\"Forma de t:\", dg.t.shape)"
      ],
      "execution_count": null,
      "outputs": [
        {
          "output_type": "display_data",
          "data": {
            "image/png": "[encoded data removed]",
            "text/plain": [
              "<Figure size 360x360 with 1 Axes>"
            ]
          },
          "metadata": {
            "tags": [],
            "needs_background": "light"
          }
        },
        {
          "output_type": "stream",
          "text": [
            "Forma de x: (100, 1)\n",
            "Forma de t: (100, 1)\n"
          ],
          "name": "stdout"
        }
      ]
    },
    {
      "cell_type": "markdown",
      "metadata": {
        "id": "7UaJOpV84X_T"
      },
      "source": [
        "<font color=\"#CA3532\">[2.1]</font> Define del modelo de regresión completando el código de la celda siguiente:"
      ]
    },
    {
      "cell_type": "code",
      "metadata": {
        "id": "rm13KKxn2DAq",
        "colab": {
          "base_uri": "https://localhost:8080/"
        },
        "outputId": "ef6c3e0f-1d5d-404f-f8c6-17e4cced70ce"
      },
      "source": [
        "model = keras.Sequential()\n",
        "\n",
        "#-------------------------------------------------------------\n",
        "# TO-DO: Incluye aquí las capas necesarias\n",
        "model.add(keras.layers.Dense(30, input_shape=(1,), activation='softmax',name=\"entrada\"))\n",
        "model.add(keras.layers.Dense(1, name=\"salida\"))\n",
        "#-------------------------------------------------------------\n",
        "\n",
        "model.summary()"
      ],
      "execution_count": null,
      "outputs": [
        {
          "output_type": "stream",
          "text": [
            "Model: \"sequential_8\"\n",
            "_________________________________________________________________\n",
            "Layer (type)                 Output Shape              Param #   \n",
            "=================================================================\n",
            "entrada (Dense)              (None, 30)                60        \n",
            "_________________________________________________________________\n",
            "salida (Dense)               (None, 1)                 31        \n",
            "=================================================================\n",
            "Total params: 91\n",
            "Trainable params: 91\n",
            "Non-trainable params: 0\n",
            "_________________________________________________________________\n"
          ],
          "name": "stdout"
        }
      ]
    },
    {
      "cell_type": "markdown",
      "metadata": {
        "id": "qQ9Cow2D4rSK"
      },
      "source": [
        "<font color=\"#CA3532\">[2.2]</font> Compila el modelo, utilizando un optimizador SGD y la función de coste más apropiada para este problema. El learning rate lo deberás ajustar para que el entrenamiento converja:"
      ]
    },
    {
      "cell_type": "code",
      "metadata": {
        "id": "RMIEQJdp2C9t"
      },
      "source": [
        "#-------------------------------------------------------------\n",
        "# TO-DO: Compila el modelo\n",
        "\n",
        "####\n",
        "model.compile(optimizer=keras.optimizers.SGD(learning_rate=1, momentum=0.7),\n",
        "              loss='mse')\n",
        "#-------------------------------------------------------------"
      ],
      "execution_count": null,
      "outputs": []
    },
    {
      "cell_type": "markdown",
      "metadata": {
        "id": "AeQsLWq04wCd"
      },
      "source": [
        "La siguiente celda ajusta tu modelo a los datos y muestra gráficamente el resultado:"
      ]
    },
    {
      "cell_type": "code",
      "metadata": {
        "colab": {
          "base_uri": "https://localhost:8080/",
          "height": 279
        },
        "id": "BmeJ_GgQ2CzU",
        "outputId": "f19948b1-78cc-49ee-a088-637d08385ff4"
      },
      "source": [
        "history = model.fit(dg.x, dg.t, epochs=1000, batch_size=dg.x.shape[0], verbose=0)\n",
        "y = model.predict(dg.modelx)\n",
        "\n",
        "plt.figure(figsize=(10, 4))\n",
        "\n",
        "plt.subplot(1, 2, 1)\n",
        "plt.plot(history.history['loss'])\n",
        "plt.grid(True)\n",
        "plt.xlabel('epoch')\n",
        "plt.ylabel('MSE')\n",
        "\n",
        "plt.subplot(1, 2, 2)\n",
        "plt.plot(dg.x, dg.t, '.')\n",
        "plt.plot(dg.modelx, y, 'r-')\n",
        "plt.grid(True)\n",
        "plt.xlabel('x') \n",
        "plt.ylabel('t')\n",
        "plt.legend(('real', 'predicted'))\n",
        "plt.show()"
      ],
      "execution_count": null,
      "outputs": [
        {
          "output_type": "display_data",
          "data": {
            "image/png": "[encoded data removed]",
            "text/plain": [
              "<Figure size 720x288 with 2 Axes>"
            ]
          },
          "metadata": {
            "tags": [],
            "needs_background": "light"
          }
        }
      ]
    },
    {
      "cell_type": "markdown",
      "metadata": {
        "id": "SxlAn5iNiwmY"
      },
      "source": [
        "#### <font color=\"#CA3532\">Ejercicio 3</font> [1 punto]\n",
        "\n",
        "Finalmente vamos a plantear un problema de regresión logística. La siguiente celda crea los datos del problema (en dos dimensiones) y representa gráficamente la distribución de ``x`` para las dos clases ``t=0`` y ``t=1``:"
      ]
    },
    {
      "cell_type": "code",
      "metadata": {
        "colab": {
          "base_uri": "https://localhost:8080/",
          "height": 368
        },
        "id": "E32y3vuGrMfJ",
        "outputId": "8038303c-170a-4f18-c577-fad2a1cb635c"
      },
      "source": [
        "dg = dlfbt.DataGeneratorLogistic(a=[2.0, 2.0], b=-20.0)\n",
        "dg.create_dataset(n=500, seed=17)\n",
        "\n",
        "plt.figure(figsize=(5, 5))\n",
        "ix0 = (dg.t.ravel() == 0)\n",
        "plt.plot(dg.x[ix0, 0], dg.x[ix0, 1], '.', label='t=0')\n",
        "ix1 = (dg.t.ravel() == 1)\n",
        "plt.plot(dg.x[ix1, 0], dg.x[ix1, 1], '.', label='t=1')\n",
        "plt.grid(True)\n",
        "plt.xlabel('x1')\n",
        "plt.ylabel('x2')\n",
        "plt.legend()\n",
        "plt.show()\n",
        "\n",
        "print(\"Forma de x:\", dg.x.shape)\n",
        "print(\"Forma de t:\", dg.t.shape)"
      ],
      "execution_count": null,
      "outputs": [
        {
          "output_type": "display_data",
          "data": {
            "image/png": "[encoded data removed]",
            "text/plain": [
              "<Figure size 360x360 with 1 Axes>"
            ]
          },
          "metadata": {
            "tags": [],
            "needs_background": "light"
          }
        },
        {
          "output_type": "stream",
          "text": [
            "Forma de x: (500, 2)\n",
            "Forma de t: (500, 1)\n"
          ],
          "name": "stdout"
        }
      ]
    },
    {
      "cell_type": "markdown",
      "metadata": {
        "id": "klDADm0Gvyxl"
      },
      "source": [
        "<font color=\"#CA3532\">[3.1]</font> Construye en Keras un modelo de regresión logística para predecir la variable ``t`` a partir de la variable ``x``. Define del modelo completando el código de la celda siguiente:"
      ]
    },
    {
      "cell_type": "code",
      "metadata": {
        "id": "ZT9nfBeOjKK1",
        "colab": {
          "base_uri": "https://localhost:8080/"
        },
        "outputId": "4d99d75b-5149-4f27-cb59-f0159603555d"
      },
      "source": [
        "model = keras.Sequential()\n",
        "\n",
        "#-------------------------------------------------------------\n",
        "# TO-DO: Incluye aquí las capas necesarias\n",
        "model.add(keras.layers.Dense(1, input_shape=(2,), activation='sigmoid', name='entrada'))\n",
        "#-------------------------------------------------------------\n",
        "\n",
        "model.summary()"
      ],
      "execution_count": null,
      "outputs": [
        {
          "output_type": "stream",
          "text": [
            "Model: \"sequential_9\"\n",
            "_________________________________________________________________\n",
            "Layer (type)                 Output Shape              Param #   \n",
            "=================================================================\n",
            "entrada (Dense)              (None, 1)                 3         \n",
            "=================================================================\n",
            "Total params: 3\n",
            "Trainable params: 3\n",
            "Non-trainable params: 0\n",
            "_________________________________________________________________\n"
          ],
          "name": "stdout"
        }
      ]
    },
    {
      "cell_type": "markdown",
      "metadata": {
        "id": "FxfPuceGwUDc"
      },
      "source": [
        "<font color=\"#CA3532\">[3.2]</font> Compila el modelo, utilizando un optimizador SGD y la función de coste más apropiada para este problema. Añade las opciones necesarias para que se genere, además del ``loss``, la métrica ``accuracy``. El learning rate lo deberás ajustar para que el entrenamiento converja:"
      ]
    },
    {
      "cell_type": "code",
      "metadata": {
        "id": "ytPLIp2PwTxa"
      },
      "source": [
        "#-------------------------------------------------------------\n",
        "# TO-DO: Compila el modelo\n",
        "model.compile(optimizer=keras.optimizers.SGD(learning_rate=0.1), \n",
        "              loss='binary_crossentropy',\n",
        "              metrics=['accuracy'])\n",
        "#-------------------------------------------------------------"
      ],
      "execution_count": null,
      "outputs": []
    },
    {
      "cell_type": "markdown",
      "metadata": {
        "id": "faNPLKXbzzqh"
      },
      "source": [
        "La siguiente celda ajusta tu modelo a los datos y muestra gráficamente el resultado:"
      ]
    },
    {
      "cell_type": "code",
      "metadata": {
        "id": "6c3xTLJfjKFP",
        "colab": {
          "base_uri": "https://localhost:8080/",
          "height": 337
        },
        "outputId": "07e2c643-b291-4880-8152-19a39f0ea229"
      },
      "source": [
        "history = model.fit(dg.x, dg.t, epochs=1000, batch_size=dg.x.shape[0], verbose=0)\n",
        "\n",
        "plt.figure(figsize=(15, 4))\n",
        "\n",
        "plt.subplot(1, 3, 1)\n",
        "plt.plot(history.history['loss'])\n",
        "plt.grid(True)\n",
        "plt.xlabel('epoch')\n",
        "plt.ylabel('loss')\n",
        "\n",
        "plt.subplot(1, 3, 2)\n",
        "plt.plot(history.history['accuracy'])\n",
        "plt.grid(True)\n",
        "plt.xlabel('epoch')\n",
        "plt.ylabel('accuracy')\n",
        "\n",
        "xx, yy = np.meshgrid(np.arange(0, 10, 0.01), np.arange(0, 10,0.01))\n",
        "xy = np.concatenate([xx.reshape([-1, 1]), yy.reshape([-1, 1])], axis=1)\n",
        "z = model.predict(xy)\n",
        "\n",
        "plt.subplot(1, 3, 3)\n",
        "plt.contourf(xx, yy, z.reshape(xx.shape), 100, cmap=\"gray\")\n",
        "plt.plot(dg.x[ix0, 0], dg.x[ix0, 1], '.')\n",
        "plt.plot(dg.x[ix1, 0], dg.x[ix1, 1], '.')\n",
        "plt.grid(True)\n",
        "plt.xlabel('height')\n",
        "plt.ylabel('weight')\n",
        "plt.axis([0, 10, 0, 10])\n",
        "plt.legend(('index < 5', 'index = 5'))\n",
        "\n",
        "plt.show()"
      ],
      "execution_count": null,
      "outputs": [
        {
          "output_type": "stream",
          "text": [
            "WARNING:tensorflow:Unresolved object in checkpoint: (root).layer-5\n",
            "WARNING:tensorflow:A checkpoint was restored (e.g. tf.train.Checkpoint.restore or tf.keras.Model.load_weights) but not all checkpointed values were used. See above for specific issues. Use expect_partial() on the load status object, e.g. tf.train.Checkpoint.restore(...).expect_partial(), to silence these warnings, or use assert_consumed() to make the check explicit. See https://www.tensorflow.org/guide/checkpoint#loading_mechanics for details.\n"
          ],
          "name": "stdout"
        },
        {
          "output_type": "display_data",
          "data": {
            "image/png": "[encoded data removed]",
            "text/plain": [
              "<Figure size 1080x288 with 3 Axes>"
            ]
          },
          "metadata": {
            "tags": [],
            "needs_background": "light"
          }
        }
      ]
    },
    {
      "cell_type": "markdown",
      "metadata": {
        "id": "FtCAYd233wcm"
      },
      "source": [
        "#### <font color=\"#CA3532\">Ejercicio 4</font> [1 punto]\n",
        "\n",
        "En este ejercicio vas a construir una red neuronal un poco más compleja y la vas a probar con distintos casos de prueba. La red debe tener las siguientes características:\n",
        "\n",
        "- Una capa de entrada con 54 unidades.\n",
        "- Dos capas ocultas, con 128 y 64 unidades respectivamente, y activación ``ReLU``. \n",
        "- Una capa de salida con 7 unidades ``softmax``. \n",
        "- Se debe aplicar ``dropout`` con parámetro 0.2 en las dos capas ocultas.\n",
        "- Todos los pesos de la red se deben inicializar con el método Xavier (ver transparencias [dffn.pdf](https://drive.google.com/file/d/1D2cK96G9QKnzheQeb3WIupUc73ElLn5p/view?usp=sharing), p. 80).\n",
        "\n",
        "<font color=\"#CA3532\">[4.1]</font> Completa el código de la siguiente celda con tu solución:\n"
      ]
    },
    {
      "cell_type": "code",
      "metadata": {
        "id": "jNlqpD415QVM",
        "colab": {
          "base_uri": "https://localhost:8080/"
        },
        "outputId": "d3f04c03-c25c-4995-f2df-f5f9ed754803"
      },
      "source": [
        "model = keras.Sequential()\n",
        "\n",
        "#-------------------------------------------------------------\n",
        "# TO-DO: Incluye aquí las capas necesarias\n",
        "model.add(keras.layers.InputLayer(54, name='entrada'))\n",
        "#inicializo los pesos a traves del metodo xavier\n",
        "initializer = tf.keras.initializers.GlorotNormal()\n",
        "values = initializer(shape=(2,))\n",
        "#ocultas, aplicar dropout\n",
        "model.add(keras.layers.Dense(128, activation='relu', name='oculta', kernel_initializer=initializer))\n",
        "model.add(tf.keras.layers.Dropout(0.2)) \n",
        "model.add(keras.layers.Dense(64, activation='relu', name='oculta1'))\n",
        "model.add(tf.keras.layers.Dropout(0.2))\n",
        "#salida\n",
        "model.add(keras.layers.Dense(7,activation='softmax' ,name=\"salida\"))\n",
        "#-------------------------------------------------------------\n",
        "\n",
        "model.summary()\n",
        "#-------------------------------------------------------------"
      ],
      "execution_count": null,
      "outputs": [
        {
          "output_type": "stream",
          "text": [
            "Model: \"sequential_10\"\n",
            "_________________________________________________________________\n",
            "Layer (type)                 Output Shape              Param #   \n",
            "=================================================================\n",
            "oculta (Dense)               (None, 128)               7040      \n",
            "_________________________________________________________________\n",
            "dropout_2 (Dropout)          (None, 128)               0         \n",
            "_________________________________________________________________\n",
            "oculta1 (Dense)              (None, 64)                8256      \n",
            "_________________________________________________________________\n",
            "dropout_3 (Dropout)          (None, 64)                0         \n",
            "_________________________________________________________________\n",
            "salida (Dense)               (None, 7)                 455       \n",
            "=================================================================\n",
            "Total params: 15,751\n",
            "Trainable params: 15,751\n",
            "Non-trainable params: 0\n",
            "_________________________________________________________________\n"
          ],
          "name": "stdout"
        }
      ]
    },
    {
      "cell_type": "markdown",
      "metadata": {
        "id": "N9T83Cjs87u9"
      },
      "source": [
        "<font color=\"#CA3532\">[4.2]</font> Si has hecho todo bien, tu modelo debería tener 15751 parámetros entrenables. Explica de dónde sale este número:\n",
        "\n",
        "<font color=\"#CA3532\">\n",
        "TO-DO: Incluye aquí tu respuesta.\n",
        "</font>"
      ]
    },
    {
      "cell_type": "markdown",
      "metadata": {
        "id": "MhlOeMCT7DJB"
      },
      "source": [
        "El resultado sale de la suma de las iteraciones de todas las capas más la suma del bias, dado que si no sumas el bias el resultado estaría cerca pero no sería el resultado correcto.\n",
        "(54*128+128)+(128*64+64)+(64*7+7)\n"
      ]
    },
    {
      "cell_type": "markdown",
      "metadata": {
        "id": "9wJ8LBTGANru"
      },
      "source": [
        "#### <font color=\"#CA3532\">Ejercicio 5</font> [1 punto]\n",
        "\n",
        "A continuación vamos a hacer una serie de pruebas para verificar que tu modelo está bien construido. Para ello vamos a usar los datos del problema de clasificación Forest Covertypes. El problema consiste en predecir el tipo de cubierta vegetal de un terreno a partir de características del mismo como su elevación, su pendiente, etcétera. Los detalles del problema los puedes consultar en estos enlaces:\n",
        "\n",
        "https://scikit-learn.org/stable/datasets/real_world.html#forest-covertypes\n",
        "\n",
        "https://archive.ics.uci.edu/ml/datasets/Covertype\n",
        "\n",
        "La siguiente celda carga y prepara los datos:\n"
      ]
    },
    {
      "cell_type": "code",
      "metadata": {
        "id": "bqbmAI2zJZg4"
      },
      "source": [
        "from sklearn.datasets import fetch_covtype\n",
        "data = fetch_covtype()\n",
        "x = data.data\n",
        "t = data.target - 1"
      ],
      "execution_count": null,
      "outputs": []
    },
    {
      "cell_type": "markdown",
      "metadata": {
        "id": "T5yVzwT487xs"
      },
      "source": [
        "A continuación imprimimos la forma de las variables ``x`` e ``y``, así como los valores numéricos de cada una de las 7 clases del problema:"
      ]
    },
    {
      "cell_type": "code",
      "metadata": {
        "colab": {
          "base_uri": "https://localhost:8080/"
        },
        "id": "EslzoxuE7Aax",
        "outputId": "5c2103ad-c2b5-494b-ae2f-0586120fcb8c"
      },
      "source": [
        "print(x.shape)\n",
        "print(t.shape)\n",
        "print(np.unique(t))"
      ],
      "execution_count": null,
      "outputs": [
        {
          "output_type": "stream",
          "text": [
            "(581012, 54)\n",
            "(581012,)\n",
            "[0 1 2 3 4 5 6]\n"
          ],
          "name": "stdout"
        }
      ]
    },
    {
      "cell_type": "markdown",
      "metadata": {
        "id": "-GV1yjoXTZZS"
      },
      "source": [
        "<font color=\"#CA3532\">[5.1]</font> Lo primero que debes hacer es dividir los datos en conjuntos de entrenamiento y test usando la función [train_test_split](https://scikit-learn.org/stable/modules/generated/sklearn.model_selection.train_test_split.html) de ``scikit-learn``. El conjunto de test debe tener el 30% de los datos. La semilla (``random_state``) se debe fijar al valor 23 para que los resultados sean reproducibles. Utiliza los nombres de variable ``x_train``, ``x_test``, ``t_train`` y ``t_test``."
      ]
    },
    {
      "cell_type": "code",
      "metadata": {
        "id": "NptS0suZTXMV"
      },
      "source": [
        "#-------------------------------------------------------------\n",
        "# TO-DO: Incluye aquí el código para crear los conjuntos de entrenamiento y test\n",
        "#Train - test\n",
        "ntrain=400000\n",
        "x_train=x[:ntrain]\n",
        "t_train=t[:ntrain]\n",
        "x_test=x[:ntrain]\n",
        "t_test=t[:ntrain]\n",
        "#hago la particion\n",
        "x_train, x_test, t_train, t_test = train_test_split(x, t, test_size=0.3, random_state=23)\n",
        "#-------------------------------------------------------------"
      ],
      "execution_count": null,
      "outputs": []
    },
    {
      "cell_type": "markdown",
      "metadata": {
        "id": "fgWM7q6VV5OV"
      },
      "source": [
        "<font color=\"#CA3532\">[5.2]</font> A continuación estandariza los datos usando la clase [StandardScaler](https://scikit-learn.org/stable/modules/generated/sklearn.preprocessing.StandardScaler.html)."
      ]
    },
    {
      "cell_type": "code",
      "metadata": {
        "id": "kMStPzWVWFw4"
      },
      "source": [
        "#-------------------------------------------------------------\n",
        "# TO-DO: Estandariza los datos\n",
        "scaler = StandardScaler()\n",
        "x_train = scaler.fit_transform(x_train)\n",
        "x_test = scaler.transform(x_test)\n",
        "#-------------------------------------------------------------"
      ],
      "execution_count": null,
      "outputs": []
    },
    {
      "cell_type": "markdown",
      "metadata": {
        "id": "FnPjZFSxDnYt"
      },
      "source": [
        "<font color=\"#CA3532\">[5.3]</font> En la celda siguiente, compila el modelo usando como optimizador ``SGD`` con un learning rate de ``0.01`` y como función de coste ``cross-entropy``. A continuación carga los pesos del fichero ``random-weights``."
      ]
    },
    {
      "cell_type": "code",
      "metadata": {
        "id": "df5E4H63GbS3",
        "colab": {
          "base_uri": "https://localhost:8080/"
        },
        "outputId": "d2a8d6ed-5bee-4094-f82e-5ff194eb7e42"
      },
      "source": [
        "fichero_pesos = \"MIAX6/data/covertype/random-weights\"\n",
        "\n",
        "#REVISARLO PORQUE PUEDE QUE ALGO ESTE MAL, TEBNGO QUE METER LOS PESOS\n",
        "\n",
        "#-------------------------------------------------------------\n",
        "# TO-DO: Incluye aquí el código para compilar el modelo y cargar los pesos\n",
        "#compilo el modelo\n",
        "model.load_weights(fichero_pesos)\n",
        "model.compile(optimizer=keras.optimizers.SGD(learning_rate=0.01), \n",
        "              loss='sparse_categorical_crossentropy',\n",
        "              metrics=['acc'])\n",
        "#-------------------------------------------------------------\n",
        "\n"
      ],
      "execution_count": null,
      "outputs": [
        {
          "output_type": "stream",
          "text": [
            "WARNING:tensorflow:Inconsistent references when loading the checkpoint into this object graph. Either the Trackable object references in the Python program have changed in an incompatible way, or the checkpoint was generated in an incompatible program.\n",
            "\n",
            "Two checkpoint references resolved to different objects (<tensorflow.python.keras.layers.core.Dense object at 0x7fa3efd35190> and <tensorflow.python.keras.layers.core.Dropout object at 0x7fa3f0f35750>).\n"
          ],
          "name": "stdout"
        }
      ]
    },
    {
      "cell_type": "markdown",
      "metadata": {
        "id": "vQdpNUXcCXBm"
      },
      "source": [
        "En la celda siguiente se evalúa el modelo sobre el conjunto de datos. Como tu modelo parte de unos pesos determinados, los resultados deberían ser reproducibles. \n",
        "\n",
        "Si has hecho todo bien deberías obtener este resultado (no es demasiado bueno, pero ten en cuenta que el modelo aún no ha sido entrenado):\n",
        "\n",
        "````\n",
        "5447/5447 [==============================] - 6s 976us/step - loss: 2.5425 - acc: 0.0699\n",
        "[2.5424516201019287, 0.06990659981966019]\n",
        "````"
      ]
    },
    {
      "cell_type": "code",
      "metadata": {
        "id": "HBK_MxZtca2Z",
        "colab": {
          "base_uri": "https://localhost:8080/"
        },
        "outputId": "712a94a1-bf4b-43dc-efdf-c85897de2b2d"
      },
      "source": [
        "model.evaluate(x_test, t_test)"
      ],
      "execution_count": null,
      "outputs": [
        {
          "output_type": "stream",
          "text": [
            "5447/5447 [==============================] - 6s 1ms/step - loss: 2.5425 - acc: 0.0699\n"
          ],
          "name": "stdout"
        },
        {
          "output_type": "execute_result",
          "data": {
            "text/plain": [
              "[2.5424516201019287, 0.06990659981966019]"
            ]
          },
          "metadata": {
            "tags": []
          },
          "execution_count": 102
        }
      ]
    },
    {
      "cell_type": "markdown",
      "metadata": {
        "id": "Zf38VnmZJIa2"
      },
      "source": [
        "Como última prueba vamos a entrenar el modelo durante 10 épocas. Antes de llamar a ``model.fit`` inicializamos las semillas del generador de números aleatorios para que, de nuevo, el resultado sea reproducible.\n",
        "\n",
        "Si has hecho todo bien, al ejecutar la celda siguiente este debería ser el resultado al final de las 10 épocas:\n",
        "\n",
        "````\n",
        "loss: 0.6654 - acc: 0.7201\n",
        "````"
      ]
    },
    {
      "cell_type": "code",
      "metadata": {
        "id": "6WnIC-toGbPQ",
        "colab": {
          "base_uri": "https://localhost:8080/"
        },
        "outputId": "367b50b5-efcb-4e53-9f18-5cfd45e7b50c"
      },
      "source": [
        "np.random.seed(19)\n",
        "tf.random.set_seed(41)\n",
        "_ = model.fit(x_train, t_train, epochs=10, batch_size=512, shuffle=False)"
      ],
      "execution_count": null,
      "outputs": [
        {
          "output_type": "stream",
          "text": [
            "Epoch 1/10\n",
            "795/795 [==============================] - 5s 5ms/step - loss: 1.0620 - acc: 0.5956\n",
            "Epoch 2/10\n",
            "795/795 [==============================] - 4s 5ms/step - loss: 0.8000 - acc: 0.6689\n",
            "Epoch 3/10\n",
            "795/795 [==============================] - 4s 5ms/step - loss: 0.7531 - acc: 0.6872\n",
            "Epoch 4/10\n",
            "795/795 [==============================] - 4s 5ms/step - loss: 0.7278 - acc: 0.6969\n",
            "Epoch 5/10\n",
            "795/795 [==============================] - 4s 5ms/step - loss: 0.7114 - acc: 0.7033\n",
            "Epoch 6/10\n",
            "795/795 [==============================] - 4s 5ms/step - loss: 0.6978 - acc: 0.7085\n",
            "Epoch 7/10\n",
            "795/795 [==============================] - 4s 5ms/step - loss: 0.6879 - acc: 0.7132\n",
            "Epoch 8/10\n",
            "795/795 [==============================] - 4s 5ms/step - loss: 0.6784 - acc: 0.7154\n",
            "Epoch 9/10\n",
            "795/795 [==============================] - 4s 5ms/step - loss: 0.6719 - acc: 0.7180\n",
            "Epoch 10/10\n",
            "795/795 [==============================] - 4s 5ms/step - loss: 0.6654 - acc: 0.7201\n"
          ],
          "name": "stdout"
        }
      ]
    },
    {
      "cell_type": "markdown",
      "metadata": {
        "id": "QXi4qsWZ6-U3"
      },
      "source": [
        "Y al evaluar el modelo sobre el conjunto de test te debería salir esto:\n",
        "\n",
        "````\n",
        "5447/5447 [==============================] - 6s 1ms/step - loss: 0.6210 - acc: 0.7369\n",
        "[0.6210317015647888, 0.7369194030761719]\n",
        "````"
      ]
    },
    {
      "cell_type": "code",
      "metadata": {
        "colab": {
          "base_uri": "https://localhost:8080/"
        },
        "id": "IqrXm3il63bF",
        "outputId": "21eaaf39-eb81-4487-e4f0-dbc096813fd3"
      },
      "source": [
        "model.evaluate(x_test, t_test)"
      ],
      "execution_count": null,
      "outputs": [
        {
          "output_type": "stream",
          "text": [
            "5447/5447 [==============================] - 6s 1ms/step - loss: 0.6210 - acc: 0.7369\n"
          ],
          "name": "stdout"
        },
        {
          "output_type": "execute_result",
          "data": {
            "text/plain": [
              "[0.6210317015647888, 0.7369194030761719]"
            ]
          },
          "metadata": {
            "tags": []
          },
          "execution_count": 104
        }
      ]
    },
    {
      "cell_type": "markdown",
      "metadata": {
        "id": "rcExHQC873Ne"
      },
      "source": [
        "### <font color=\"#CA3532\">Parte II: TensorFlow</font>\n",
        "\n",
        "En los siguientes ejercicios trabajaremos directamente con TensorFlow, sin Keras."
      ]
    },
    {
      "cell_type": "markdown",
      "metadata": {
        "id": "QQIl9AP60Ooj"
      },
      "source": [
        "#### <font color=\"#CA3532\">Ejercicio 6</font> [1 punto] \n",
        "\n",
        "En primer lugar vamos a construir un modelo de regresión lineal. Completa el código de la clase ``LinearRegressionModel_TF`` rellenando todos los bloques marcados con un ``TO-DO``. Ten en cuenta que no es necesario calcular los gradientes explicitamente, pues pueden ser extraidos del *gradient tape*."
      ]
    },
    {
      "cell_type": "code",
      "metadata": {
        "id": "7UXFb6qyxWyt"
      },
      "source": [
        "class LinearRegressionModel_TF(object):\n",
        "\n",
        "    def __init__(self, d=2):\n",
        "        # Initialize weights and bias:\n",
        "        self.w = tf.Variable(tf.random.normal(shape=[d, 1], dtype=tf.dtypes.float64))  \n",
        "        self.b = tf.Variable(tf.random.normal(shape=[1, 1], dtype=tf.dtypes.float64)) \n",
        "        \n",
        "    def predict(self, x):\n",
        "        #-----------------------------------------------------------------------\n",
        "        # TO-DO block: Compute the model output y\n",
        "        # Note that:\n",
        "        # - x is a Nxd tensor, with N the number of patterns and d the dimension\n",
        "        #   (number of features)\n",
        "        # - y must be a Nx1 tensor\n",
        "        #-----------------------------------------------------------------------\n",
        "        y=tf.matmul(x, self.w) + self.b\n",
        "        #-----------------------------------------------------------------------\n",
        "        # End of TO-DO block \n",
        "        #-----------------------------------------------------------------------\n",
        "\n",
        "        return y\n",
        "\n",
        "    def compute_gradients(self, x, t):\n",
        "        #-----------------------------------------------------------------------\n",
        "        # TO-DO block: Compute the gradients db and dw of the loss function \n",
        "        # with respect to b and w\n",
        "        # Note that:\n",
        "        # - x is a Nxd tensor, with N the number of patterns and d the dimension\n",
        "        #   (number of features)\n",
        "        # - t is a Nx1 tensor\n",
        "        # - y is a Nx1 tensor\n",
        "        # - The gradient db (eq. dw) must have the same shape as b (eq. w) \n",
        "        #-----------------------------------------------------------------------\n",
        "        with tf.GradientTape() as tape: #error en esta linea \n",
        "          loss=self.get_loss(x,t)\n",
        "        [dw, db]=tape.gradient(loss,[self.w, self.b])\n",
        "        #-----------------------------------------------------------------------\n",
        "        # End of TO-DO block \n",
        "        #-----------------------------------------------------------------------\n",
        "        \n",
        "        return db, dw\n",
        "        \n",
        "    def gradient_step(self, x, t, eta):\n",
        "        db, dw = self.compute_gradients(x, t)\n",
        "        \n",
        "        #-----------------------------------------------------------------------\n",
        "        # TO-DO block: Update the model parameters b and w\n",
        "        #-----------------------------------------------------------------------\n",
        "        b1=self.b-eta*db\n",
        "        self.b.assign(b1)#no permite assing\n",
        "        w1=self.w-eta*dw\n",
        "        self.w.assign(w1)\n",
        "        #-----------------------------------------------------------------------\n",
        "        # End of TO-DO block \n",
        "        #-----------------------------------------------------------------------\n",
        "\n",
        "    def fit(self, x, t, eta, num_iters):\n",
        "        loss = np.zeros(num_iters)\n",
        "        for i in range(num_iters):\n",
        "            self.gradient_step(x, t, eta)\n",
        "            loss[i] = self.get_loss(x, t).numpy()\n",
        "        return loss\n",
        "\n",
        "    def get_loss(self, x, t):\n",
        "        y = self.predict(x)\n",
        "        loss = tf.reduce_mean(0.5*(y - t)*(y - t))\n",
        "        return loss"
      ],
      "execution_count": null,
      "outputs": []
    },
    {
      "cell_type": "markdown",
      "metadata": {
        "id": "_fUPKfGwCJ2X"
      },
      "source": [
        "Puedes ejecutar las siguientes pruebas para comprobar tu implementación."
      ]
    },
    {
      "cell_type": "markdown",
      "metadata": {
        "id": "hpkCLMOZCQa7"
      },
      "source": [
        "Test para el método ``predict``:"
      ]
    },
    {
      "cell_type": "code",
      "metadata": {
        "id": "3apq6eF98rnT",
        "colab": {
          "base_uri": "https://localhost:8080/"
        },
        "outputId": "c9cfb4d3-5cb8-4a48-d16e-60db79e374a1"
      },
      "source": [
        "dg = dlfbt.DataGeneratorLinear(a=[-5.0, 2.0, -3.0, 2.0])\n",
        "dg.create_dataset(noise=0.0, n=500)\n",
        "\n",
        "linrm = LinearRegressionModel_TF()\n",
        "linrm.w = tf.Variable(dg.a)\n",
        "linrm.b = tf.Variable(dg.b)\n",
        "\n",
        "y = linrm.predict(dg.x)\n",
        "print(y.shape)                    # Should be (500, 1)\n",
        "print(np.abs(y - dg.t).max())     # Should be 0 or close to 0 \n",
        "print(linrm.get_loss(dg.x, dg.t)) # Should be 0 or close to 0 "
      ],
      "execution_count": null,
      "outputs": [
        {
          "output_type": "stream",
          "text": [
            "(500, 1)\n",
            "0.0\n",
            "tf.Tensor(0.0, shape=(), dtype=float64)\n"
          ],
          "name": "stdout"
        }
      ]
    },
    {
      "cell_type": "markdown",
      "metadata": {
        "id": "7CJ0hkNJCZms"
      },
      "source": [
        "Test para el método ``compute_gradients``:"
      ]
    },
    {
      "cell_type": "code",
      "metadata": {
        "id": "W_yMrXh89D1P",
        "colab": {
          "base_uri": "https://localhost:8080/"
        },
        "outputId": "54d88489-9722-44b2-d50e-dcd37ac1d291"
      },
      "source": [
        "dg = dlfbt.DataGeneratorLinear(a=[-5.0, 2.0, -3.0, 2.0])\n",
        "dg.create_dataset(n=50000, seed=17)\n",
        "\n",
        "linrm = LinearRegressionModel_TF()\n",
        "linrm.w = tf.Variable(dg.a)\n",
        "linrm.b = tf.Variable(dg.b)\n",
        "\n",
        "db, dw = linrm.compute_gradients(dg.x, dg.t)\n",
        "print(db.shape) # Should be (1, 1)\n",
        "print(db)       # Should be [[-0.00704326]] approx\n",
        "print(dw.shape) # Should be (4, 1)\n",
        "print(dw)       # Should be [[-0.05353578]\n",
        "                #            [-0.03276935]\n",
        "                #            [-0.00337341]\n",
        "                #            [-0.03293776]] approx"
      ],
      "execution_count": null,
      "outputs": [
        {
          "output_type": "stream",
          "text": [
            "(1, 1)\n",
            "tf.Tensor([[-0.00704326]], shape=(1, 1), dtype=float64)\n",
            "(4, 1)\n",
            "tf.Tensor(\n",
            "[[-0.05353578]\n",
            " [-0.03276935]\n",
            " [-0.00337341]\n",
            " [-0.03293776]], shape=(4, 1), dtype=float64)\n"
          ],
          "name": "stdout"
        }
      ]
    },
    {
      "cell_type": "markdown",
      "metadata": {
        "id": "d79dKAGvCg4g"
      },
      "source": [
        "Test para el método ``fit``:"
      ]
    },
    {
      "cell_type": "code",
      "metadata": {
        "id": "LJFfMn5r-Gqz",
        "colab": {
          "base_uri": "https://localhost:8080/"
        },
        "outputId": "9a3ece89-50d7-4e33-a2f1-be88b07de237"
      },
      "source": [
        "dg = dlfbt.DataGeneratorLinear(a=[2.0, 2.0])\n",
        "dg.create_dataset(n=500, seed=17)\n",
        "\n",
        "linrm = LinearRegressionModel_TF(2)\n",
        "linrm.w = tf.Variable([[-2.0], [-2.0]], dtype=tf.dtypes.float64)\n",
        "linrm.b = tf.Variable([[-3.0]], dtype=tf.dtypes.float64)\n",
        "\n",
        "loss = linrm.fit(dg.x, dg.t, 0.01, 100)\n",
        "print(loss[-1]) # Should be 2.660068435196912 approx"
      ],
      "execution_count": null,
      "outputs": [
        {
          "output_type": "stream",
          "text": [
            "2.660068435196912\n"
          ],
          "name": "stdout"
        }
      ]
    },
    {
      "cell_type": "markdown",
      "metadata": {
        "id": "k_ZjVkVaDCsO"
      },
      "source": [
        "Gráfica de loss frente a número de iteraciones:"
      ]
    },
    {
      "cell_type": "code",
      "metadata": {
        "id": "oUdWqhBH8BI1",
        "colab": {
          "base_uri": "https://localhost:8080/",
          "height": 334
        },
        "outputId": "eafcf51d-7d03-49dd-9713-a97214f1ef85"
      },
      "source": [
        "plt.figure(figsize=(5, 5))\n",
        "plt.plot(loss)\n",
        "plt.xlabel('iteration')\n",
        "plt.ylabel('loss')\n",
        "plt.grid(True)\n",
        "plt.show()"
      ],
      "execution_count": null,
      "outputs": [
        {
          "output_type": "display_data",
          "data": {
            "image/png": "[encoded data removed]",
            "text/plain": [
              "<Figure size 360x360 with 1 Axes>"
            ]
          },
          "metadata": {
            "tags": [],
            "needs_background": "light"
          }
        }
      ]
    },
    {
      "cell_type": "markdown",
      "metadata": {
        "id": "dtNBHcIAFR2a"
      },
      "source": [
        "Gráfica de predicciones frente a objetivos (debería estar distribuída a lo largo de la recta $y=x$):"
      ]
    },
    {
      "cell_type": "code",
      "metadata": {
        "id": "6I74S1h-8A-m",
        "colab": {
          "base_uri": "https://localhost:8080/",
          "height": 334
        },
        "outputId": "a93bfba5-cbc1-4297-8191-ead30a6bce0e"
      },
      "source": [
        "y = linrm.predict(dg.x)\n",
        "plt.figure(figsize=(5, 5))\n",
        "plt.plot(dg.t, y, 'o')\n",
        "plt.plot([dg.t.min(), dg.t.max()], [dg.t.min(), dg.t.max()], 'r-')\n",
        "plt.xlabel('real')\n",
        "plt.ylabel('predicted')\n",
        "plt.grid(True)\n",
        "plt.show()"
      ],
      "execution_count": null,
      "outputs": [
        {
          "output_type": "display_data",
          "data": {
            "image/png": "[encoded data removed]",
            "text/plain": [
              "<Figure size 360x360 with 1 Axes>"
            ]
          },
          "metadata": {
            "tags": [],
            "needs_background": "light"
          }
        }
      ]
    },
    {
      "cell_type": "markdown",
      "metadata": {
        "id": "8K_dMOjjFpf9"
      },
      "source": [
        "#### <font color=\"#CA3532\">Ejercicio 7</font> [1 punto] \n",
        "\n",
        "A continuación vamos a construir una red neuronal completa. Igual que antes, debes completar el código de la clase ``NeuralNetwork_TF`` rellenando todos los bloques marcados con un ``TO-DO``. \n"
      ]
    },
    {
      "cell_type": "code",
      "metadata": {
        "id": "cGrQ7ikpRP0_"
      },
      "source": [
        "class NeuralNetwork_TF(object):\n",
        "    #---------------------------------------------------------------------------\n",
        "    # MSE loss:\n",
        "    #---------------------------------------------------------------------------\n",
        "    def mse_loss(y, t):\n",
        "        loss = 0.5*tf.reduce_mean(tf.pow(y-t, 2.0))\n",
        "        return loss\n",
        "\n",
        "    #---------------------------------------------------------------------------\n",
        "    # Cross-entropy loss:\n",
        "    #---------------------------------------------------------------------------\n",
        "    def cross_entropy_loss(y, t):\n",
        "        loss = -tf.reduce_mean(t*tf.math.log(y) + (1.-t)*tf.math.log(1.-y))\n",
        "        return loss\n",
        "     \n",
        "    #---------------------------------------------------------------------------\n",
        "    # The constructor receives a list of tuples of the form (n, a), one tuple \n",
        "    # for each layer, where n is the number of units in the layer and a is the \n",
        "    # activation of the layer. You may use any TensorFlow activation. In \n",
        "    # particular:\n",
        "    #\n",
        "    # - tf.sigmoid: sigmoid activation function \n",
        "    # - tf.identity: identity activation function (to implement a linear layer) \n",
        "    # \n",
        "    # The activation function is ignored for the input layer.\n",
        "    # \n",
        "    # The minimum is two layers (input and output).\n",
        "    # The default value is layers=[(2, None), (1, tf.sigmoid)].\n",
        "    # The output layer must have one single neuron.\n",
        "    #---------------------------------------------------------------------------\n",
        "    def __init__(self, layers=[(2, None), (1, tf.sigmoid)]):\n",
        "        # Network weights and activations:\n",
        "        self.nlayers = len(layers) - 1\n",
        "        self.W = []\n",
        "        self.b = []\n",
        "        self.a = []\n",
        "        for l0, l1 in zip(layers[:-1], layers[1:]):\n",
        "            self.W.append(tf.Variable(tf.random.normal(shape=[l1[0], l0[0]], dtype=tf.dtypes.float64)))\n",
        "            self.b.append(tf.Variable(tf.random.normal(shape=[l1[0], 1], dtype=tf.dtypes.float64)))\n",
        "            self.a.append(l1[1])\n",
        "            \n",
        "    #---------------------------------------------------------------------------\n",
        "    # Implementation of the forward pass, compute the network output y given the\n",
        "    # input x.\n",
        "    #\n",
        "    # Input: x is a tensor of dimension dxN, with N the number of patterns \n",
        "    #        and d the dimension (number of features).\n",
        "    # \n",
        "    # Return: the activation y in the last layer, which must be a tensor of \n",
        "    #         dimension 1xN.\n",
        "    #---------------------------------------------------------------------------\n",
        "    def predict(self, x):\n",
        "        #-----------------------------------------------------------------------\n",
        "        # TO-DO block: loop in the network layers computing the activations. \n",
        "        # The activation of the last layer should be stored at variable y to\n",
        "        # be returned.\n",
        "        #-----------------------------------------------------------------------\n",
        "        \n",
        "        #for w, b in zip(self.w[:-1], self.b[:,-1]):\n",
        "        for w, B, A in zip(self.W[:-1], self.b[:-1], self.a[:-1]):\n",
        "          z= tf.matmul(w,x) + B\n",
        "          y = A(z)\n",
        "          x=y\n",
        "\n",
        "        z=tf.matmul(self.W[-1], x) + self.b[-1]\n",
        "        activacion=self.a[-1]\n",
        "        y=activacion(z)\n",
        "        #-----------------------------------------------------------------------\n",
        "        # End of TO-DO block \n",
        "        #-----------------------------------------------------------------------\n",
        "                  \n",
        "        return y\n",
        "    \n",
        "    #---------------------------------------------------------------------------\n",
        "    # Implementation of the backward pass, compute the gradients of the loss\n",
        "    # function with respect to all the weights and biases using the TensorFlow\n",
        "    # GradientTape. \n",
        "    #\n",
        "    # Note that the gradient tape must be persistent as many gradients must be\n",
        "    # computed. \n",
        "    #\n",
        "    # Input: x is a tensor of dimension dxN, with N the number of patterns \n",
        "    #        and d the dimension (number of features).\n",
        "    #        t is a tensor of dimension 1xN, with N the number of patterns.\n",
        "    # \n",
        "    # Return: dW is a list with the gradients of the loss function with respect \n",
        "    #         to the weights of each layer\n",
        "    #         db is a list with the gradients of the loss function with respect \n",
        "    #         to the biases of each layer\n",
        "    #---------------------------------------------------------------------------\n",
        "    def compute_gradients(self, x, t, loss_function):\n",
        "        #-----------------------------------------------------------------------\n",
        "        # TO-DO block: compute the gradients db, dW\n",
        "        #-----------------------------------------------------------------------\n",
        "        with tf.GradientTape(persistent=True) as tape:\n",
        "          #y = self.predict(x)\n",
        "          loss= loss_function(x, t, loss_function)\n",
        "          dW=[]\n",
        "          db=[]\n",
        "\n",
        "        for B, W in zip (self.b, self.w):\n",
        "          [db1, dw1]=tape.gradient(loss, [W, B])\n",
        "          #db1=tape.gradient(loss, B)\n",
        "          #dw1=tape.gradient(loss, W)\n",
        "          #dW.append(dw1)\n",
        "          #db.append(db1)\n",
        "        #-----------------------------------------------------------------------\n",
        "        # End of TO-DO block \n",
        "        #-----------------------------------------------------------------------\n",
        "\n",
        "        return db, dW\n",
        "        \n",
        "    #---------------------------------------------------------------------------\n",
        "    # Gradient step:\n",
        "    #---------------------------------------------------------------------------\n",
        "    def gradient_step(self, x, t, eta, loss_function):\n",
        "        dB, dW = self.compute_gradients(x, t, loss_function)\n",
        "\n",
        "        #-----------------------------------------------------------------------\n",
        "        # TO-DO block: Loop in layers updating the model parameters b and w\n",
        "        #-----------------------------------------------------------------------\n",
        "        for i in range(0, self.nlayers):\n",
        "          self.b[i].assign(self.b[i]-eta*dB[i])\n",
        "          self.w[i].assign(self.w[i]-eta*dW[i])\n",
        "        #for b,w in zip(self.b, self.w):\n",
        "         #self.b[i].assing(self.b[i]-eta*dB[i])\n",
        "          #self.w[i].assing(self.w[i]-eta*dW[i])\n",
        "        #-----------------------------------------------------------------------\n",
        "        # End of TO-DO block \n",
        "        #-----------------------------------------------------------------------\n",
        "\n",
        "    #---------------------------------------------------------------------------\n",
        "    # Fit the model parameters to the training data x, t.\n",
        "    # Return the loss at each training epoch.\n",
        "    #---------------------------------------------------------------------------\n",
        "    def fit(self, x, t, eta, num_epochs, batch_size, loss_function, verbose=False):\n",
        "        (dim, n) = x.shape\n",
        "        num_batches = (n // batch_size) + ((n % batch_size) != 0)\n",
        " \n",
        "        loss = np.zeros(num_epochs)\n",
        "        for i in range(num_epochs):\n",
        "            # Shuffle data and generate batches:\n",
        "            ix = np.random.permutation(n)\n",
        "            for j in range(num_batches):\n",
        "                imin = j*batch_size\n",
        "                imax = np.minimum((j+1)*batch_size, n)\n",
        "                \n",
        "                ibatch = ix[imin:imax]\n",
        "                batch_x = x[:, ibatch]\n",
        "                batch_t = t[:, ibatch]\n",
        "                self.gradient_step(batch_x, batch_t, eta, loss_function)\n",
        "\n",
        "            # Calculo el loss de la epoca con todos los datos:\n",
        "            loss[i] = self.get_loss(x, t, loss_function).numpy()\n",
        "            # Print:\n",
        "            if verbose:\n",
        "                print(\"Epoch %d -- loss %f\" % (i, loss[i]))\n",
        "        return loss\n",
        "\n",
        "    #---------------------------------------------------------------------------\n",
        "    # Compute loss:\n",
        "    #---------------------------------------------------------------------------\n",
        "    def get_loss(self, x, t, loss_function):\n",
        "        y = self.predict(x)\n",
        "        return loss_function(y, t)"
      ],
      "execution_count": null,
      "outputs": []
    },
    {
      "cell_type": "code",
      "metadata": {
        "id": "saAFKvHBtRSU"
      },
      "source": [
        ""
      ],
      "execution_count": null,
      "outputs": []
    },
    {
      "cell_type": "markdown",
      "metadata": {
        "id": "R4L50bK9pQxi"
      },
      "source": [
        "Puedes ejecutar las siguientes pruebas para chequear tu implementación."
      ]
    },
    {
      "cell_type": "markdown",
      "metadata": {
        "id": "Lu6oBx622I-9"
      },
      "source": [
        "Método ``predict``:"
      ]
    },
    {
      "cell_type": "code",
      "metadata": {
        "id": "1sYISRu72Rk8",
        "colab": {
          "base_uri": "https://localhost:8080/"
        },
        "outputId": "89aecbee-15d7-4070-bfd9-4bd0c18e131a"
      },
      "source": [
        "np.random.seed(17)\n",
        "tf.random.set_seed(17)\n",
        "x = np.random.randn(3, 20)\n",
        "\n",
        "net = NeuralNetwork_TF([(3, None), (10, tf.sigmoid), (1, tf.sigmoid)])\n",
        "y = net.predict(x)\n",
        "\n",
        "# Tensor shape, should be (1, 20)\n",
        "print(y.shape)\n",
        "\n",
        "# Array values, should match those on the test file, so that all prints are 0 \n",
        "# or close to 0:\n",
        "with open('MIAX6/test_nn_tf_predict.pickle', 'rb') as handle:\n",
        "    yexp = pickle.load(handle)\n",
        "print(np.max(np.abs(y - yexp)))"
      ],
      "execution_count": null,
      "outputs": [
        {
          "output_type": "stream",
          "text": [
            "(1, 20)\n",
            "0.0\n"
          ],
          "name": "stdout"
        }
      ]
    },
    {
      "cell_type": "markdown",
      "metadata": {
        "id": "ACJyRIwR66TO"
      },
      "source": [
        "Método ``compute_gradients``:"
      ]
    },
    {
      "cell_type": "code",
      "metadata": {
        "id": "MIRwsjNG2m9s",
        "colab": {
          "base_uri": "https://localhost:8080/",
          "height": 346
        },
        "outputId": "ff334d43-f122-4110-a1ff-ed2795caedba"
      },
      "source": [
        "np.random.seed(17)\n",
        "tf.random.set_seed(17)\n",
        "x = np.random.randn(3, 20)\n",
        "t = np.random.randn(1, 20)\n",
        "\n",
        "net = NeuralNetwork_TF([(3, None), (10, tf.sigmoid), (1, tf.identity)])\n",
        "db, dW = net.compute_gradients(x, t, NeuralNetwork_TF.mse_loss)\n",
        "\n",
        "# Array shapes, should be:\n",
        "# (10, 3)\n",
        "# (10, 1)\n",
        "# (1, 10)\n",
        "# (1, 1)\n",
        "for dwp, dbp in zip(dW, db):\n",
        "    print(dwp.shape)\n",
        "    print(dbp.shape)\n",
        "\n",
        "# Array values, should match those on the test file, so that all prints are 0 \n",
        "# or close to 0:\n",
        "with open('MIAX6/test_nn_tf_compute_gradients.pickle', 'rb') as handle:\n",
        "    [dWexp, dbexp] = pickle.load(handle)\n",
        "\n",
        "for dwp, dbp, dwe, dbe in zip(dW, db, dWexp, dbexp):\n",
        "    print(np.max(np.abs(dwp - dwe)))\n",
        "    print(np.max(np.abs(dbp - dbe)))"
      ],
      "execution_count": null,
      "outputs": [
        {
          "output_type": "error",
          "ename": "TypeError",
          "evalue": "ignored",
          "traceback": [
            "\u001b[0;31m---------------------------------------------------------------------------\u001b[0m",
            "\u001b[0;31mTypeError\u001b[0m                                 Traceback (most recent call last)",
            "\u001b[0;32m<ipython-input-113-8c7e5e6f4a5c>\u001b[0m in \u001b[0;36m<module>\u001b[0;34m()\u001b[0m\n\u001b[1;32m      5\u001b[0m \u001b[0;34m\u001b[0m\u001b[0m\n\u001b[1;32m      6\u001b[0m \u001b[0mnet\u001b[0m \u001b[0;34m=\u001b[0m \u001b[0mNeuralNetwork_TF\u001b[0m\u001b[0;34m(\u001b[0m\u001b[0;34m[\u001b[0m\u001b[0;34m(\u001b[0m\u001b[0;36m3\u001b[0m\u001b[0;34m,\u001b[0m \u001b[0;32mNone\u001b[0m\u001b[0;34m)\u001b[0m\u001b[0;34m,\u001b[0m \u001b[0;34m(\u001b[0m\u001b[0;36m10\u001b[0m\u001b[0;34m,\u001b[0m \u001b[0mtf\u001b[0m\u001b[0;34m.\u001b[0m\u001b[0msigmoid\u001b[0m\u001b[0;34m)\u001b[0m\u001b[0;34m,\u001b[0m \u001b[0;34m(\u001b[0m\u001b[0;36m1\u001b[0m\u001b[0;34m,\u001b[0m \u001b[0mtf\u001b[0m\u001b[0;34m.\u001b[0m\u001b[0midentity\u001b[0m\u001b[0;34m)\u001b[0m\u001b[0;34m]\u001b[0m\u001b[0;34m)\u001b[0m\u001b[0;34m\u001b[0m\u001b[0;34m\u001b[0m\u001b[0m\n\u001b[0;32m----> 7\u001b[0;31m \u001b[0mdb\u001b[0m\u001b[0;34m,\u001b[0m \u001b[0mdW\u001b[0m \u001b[0;34m=\u001b[0m \u001b[0mnet\u001b[0m\u001b[0;34m.\u001b[0m\u001b[0mcompute_gradients\u001b[0m\u001b[0;34m(\u001b[0m\u001b[0mx\u001b[0m\u001b[0;34m,\u001b[0m \u001b[0mt\u001b[0m\u001b[0;34m,\u001b[0m \u001b[0mNeuralNetwork_TF\u001b[0m\u001b[0;34m.\u001b[0m\u001b[0mmse_loss\u001b[0m\u001b[0;34m)\u001b[0m\u001b[0;34m\u001b[0m\u001b[0;34m\u001b[0m\u001b[0m\n\u001b[0m\u001b[1;32m      8\u001b[0m \u001b[0;34m\u001b[0m\u001b[0m\n\u001b[1;32m      9\u001b[0m \u001b[0;31m# Array shapes, should be:\u001b[0m\u001b[0;34m\u001b[0m\u001b[0;34m\u001b[0m\u001b[0;34m\u001b[0m\u001b[0m\n",
            "\u001b[0;32m<ipython-input-111-cb5b1ea91f0f>\u001b[0m in \u001b[0;36mcompute_gradients\u001b[0;34m(self, x, t, loss_function)\u001b[0m\n\u001b[1;32m     95\u001b[0m         \u001b[0;32mwith\u001b[0m \u001b[0mtf\u001b[0m\u001b[0;34m.\u001b[0m\u001b[0mGradientTape\u001b[0m\u001b[0;34m(\u001b[0m\u001b[0mpersistent\u001b[0m\u001b[0;34m=\u001b[0m\u001b[0;32mTrue\u001b[0m\u001b[0;34m)\u001b[0m \u001b[0;32mas\u001b[0m \u001b[0mtape\u001b[0m\u001b[0;34m:\u001b[0m\u001b[0;34m\u001b[0m\u001b[0;34m\u001b[0m\u001b[0m\n\u001b[1;32m     96\u001b[0m           \u001b[0;31m#y = self.predict(x)\u001b[0m\u001b[0;34m\u001b[0m\u001b[0;34m\u001b[0m\u001b[0;34m\u001b[0m\u001b[0m\n\u001b[0;32m---> 97\u001b[0;31m           \u001b[0mloss\u001b[0m\u001b[0;34m=\u001b[0m \u001b[0mloss_function\u001b[0m\u001b[0;34m(\u001b[0m\u001b[0mx\u001b[0m\u001b[0;34m,\u001b[0m \u001b[0mt\u001b[0m\u001b[0;34m,\u001b[0m \u001b[0mloss_function\u001b[0m\u001b[0;34m)\u001b[0m\u001b[0;34m\u001b[0m\u001b[0;34m\u001b[0m\u001b[0m\n\u001b[0m\u001b[1;32m     98\u001b[0m           \u001b[0mdW\u001b[0m\u001b[0;34m=\u001b[0m\u001b[0;34m[\u001b[0m\u001b[0;34m]\u001b[0m\u001b[0;34m\u001b[0m\u001b[0;34m\u001b[0m\u001b[0m\n\u001b[1;32m     99\u001b[0m           \u001b[0mdb\u001b[0m\u001b[0;34m=\u001b[0m\u001b[0;34m[\u001b[0m\u001b[0;34m]\u001b[0m\u001b[0;34m\u001b[0m\u001b[0;34m\u001b[0m\u001b[0m\n",
            "\u001b[0;31mTypeError\u001b[0m: mse_loss() takes 2 positional arguments but 3 were given"
          ]
        }
      ]
    },
    {
      "cell_type": "markdown",
      "metadata": {
        "id": "Oee-XgdK-Fo6"
      },
      "source": [
        "Método ``fit`` (problema de regresión):"
      ]
    },
    {
      "cell_type": "code",
      "metadata": {
        "id": "Ti0dAAfl-Elh"
      },
      "source": [
        "dg = dlfbt.DataGeneratorLinear(a=[2.0, 2.0])\n",
        "dg.create_dataset(n=1000, seed=17, noise=1.0)\n",
        "x = dg.x.transpose()\n",
        "t = dg.t.transpose()\n",
        "\n",
        "np.random.seed(23)\n",
        "tf.random.set_seed(23)\n",
        "net = NeuralNetwork_TF([(2, None), (1, tf.identity)])\n",
        "loss = net.fit(x, t, 0.01, 100, 1000, NeuralNetwork_TF.mse_loss)\n",
        "y = net.predict(x)\n",
        "\n",
        "# Array shape, should be (1, 1000):\n",
        "print(y.shape)\n",
        "\n",
        "# Array values, should match those on the test file, so that all prints are 0 \n",
        "# or close to 0:\n",
        "with open('MIAX6/test_nn_tf_fit.pickle', 'rb') as handle:\n",
        "    yexp = pickle.load(handle)\n",
        "print(np.max(np.abs(y - yexp)))"
      ],
      "execution_count": null,
      "outputs": []
    },
    {
      "cell_type": "markdown",
      "metadata": {
        "id": "Yb-4Vrvy7Z-D"
      },
      "source": [
        "Plot loss versus epoch:"
      ]
    },
    {
      "cell_type": "code",
      "metadata": {
        "id": "ghXjsdAH7_Sl"
      },
      "source": [
        "plt.figure(figsize=(6, 6))\n",
        "plt.plot(loss)\n",
        "plt.xlabel('epoch')\n",
        "plt.ylabel('loss')\n",
        "plt.grid(True)\n",
        "plt.show()"
      ],
      "execution_count": null,
      "outputs": []
    },
    {
      "cell_type": "markdown",
      "metadata": {
        "id": "IKe5tlRgAkyG"
      },
      "source": [
        "Plot predictions versus targets (should distribute along $y=x$):"
      ]
    },
    {
      "cell_type": "code",
      "metadata": {
        "id": "ADa2-5oz8DHV"
      },
      "source": [
        "y = net.predict(x).numpy().transpose()\n",
        "plt.figure(figsize=(6, 6))\n",
        "plt.plot(dg.t, y, 'o')\n",
        "plt.plot([dg.t.min(), dg.t.max()], [dg.t.min(), dg.t.max()], 'r-')\n",
        "plt.xlabel('real')\n",
        "plt.ylabel('predicted')\n",
        "plt.grid(True)\n",
        "plt.show()"
      ],
      "execution_count": null,
      "outputs": []
    },
    {
      "cell_type": "markdown",
      "metadata": {
        "id": "rOZSu857Pfll"
      },
      "source": [
        "### <font color=\"#CA3532\">Parte III: Optimización de hiperparámetros</font>"
      ]
    },
    {
      "cell_type": "markdown",
      "metadata": {
        "id": "n077GjMKRfft"
      },
      "source": [
        "\n",
        "En esta parte de la práctica vamos a seguir trabajando con la base de datos de Forest Covertypes. Los datos deberían estar cargados en las variables ``x_train``, ``x_test``, ``t_train`` y ``t_test``:"
      ]
    },
    {
      "cell_type": "code",
      "metadata": {
        "id": "2HCnnhnwIoau"
      },
      "source": [
        "print(x_train.shape)\n",
        "print(x_test.shape)\n",
        "print(t_train.shape)\n",
        "print(t_test.shape)"
      ],
      "execution_count": null,
      "outputs": []
    },
    {
      "cell_type": "markdown",
      "metadata": {
        "id": "fFx01rn7wOa0"
      },
      "source": [
        "#### <font color=\"#CA3532\">Ejercicio 8</font> [1 punto]\n",
        "\n",
        "Construye una red neuronal para el problema Forest Covertypes, realizando una búsqueda lo más completa posible de los hiperparámetros con [Keras Tuner](https://keras-team.github.io/keras-tuner/documentation/tuners/). Debes considerar, al menos, los siguientes hiperparámetros:\n",
        "\n",
        "- Learning rate.\n",
        "- Número de capas ocultas.\n",
        "- Número de unidades en las capas ocultas.\n",
        "- Algún parámetro de regularización. \n",
        "- Optimizador.\n",
        "\n",
        "Completa el código de las celdas siguientes en los lugares indicados, sin cambiar el nombre de la carpeta de logs.\n",
        "\n"
      ]
    },
    {
      "cell_type": "code",
      "metadata": {
        "id": "yZhIPAYk4L1H",
        "colab": {
          "base_uri": "https://localhost:8080/"
        },
        "outputId": "f1bff52a-1c24-41df-f27e-070b70f7b6d8"
      },
      "source": [
        "!pip install -q -U keras-tuner\n",
        "import kerastuner as kt"
      ],
      "execution_count": null,
      "outputs": [
        {
          "output_type": "stream",
          "text": [
            "\u001b[?25l\r\u001b[K     |███▍                            | 10kB 14.5MB/s eta 0:00:01\r\u001b[K     |██████▉                         | 20kB 10.7MB/s eta 0:00:01\r\u001b[K     |██████████▏                     | 30kB 6.2MB/s eta 0:00:01\r\u001b[K     |█████████████▋                  | 40kB 5.6MB/s eta 0:00:01\r\u001b[K     |█████████████████               | 51kB 2.9MB/s eta 0:00:01\r\u001b[K     |████████████████████▍           | 61kB 3.3MB/s eta 0:00:01\r\u001b[K     |███████████████████████▊        | 71kB 3.5MB/s eta 0:00:01\r\u001b[K     |███████████████████████████▏    | 81kB 3.8MB/s eta 0:00:01\r\u001b[K     |██████████████████████████████▋ | 92kB 3.8MB/s eta 0:00:01\r\u001b[K     |████████████████████████████████| 102kB 3.0MB/s \n",
            "\u001b[?25h  Building wheel for kt-legacy (setup.py) ... \u001b[?25l\u001b[?25hdone\n"
          ],
          "name": "stdout"
        },
        {
          "output_type": "stream",
          "text": [
            "/usr/local/lib/python3.7/dist-packages/ipykernel_launcher.py:2: DeprecationWarning: `import kerastuner` is deprecated, please use `import keras_tuner`.\n",
            "  \n"
          ],
          "name": "stderr"
        }
      ]
    },
    {
      "cell_type": "markdown",
      "metadata": {
        "id": "yccnCT3B61d9"
      },
      "source": [
        "<font color=\"#CA3532\">[8.1]</font> Define el hipermodelo:"
      ]
    },
    {
      "cell_type": "code",
      "metadata": {
        "id": "le1k5jYB43fn"
      },
      "source": [
        "def model_builder(hp):\n",
        "  #-------------------------------------------------------------\n",
        "  # TO-DO: Incluye aquí los hiperparámetros a optimizar y sus posibles\n",
        "  # valores. Como ejemplo se muestra el learning rate\n",
        "  hp_lambda = hp.Choice('lambda', values = [1.0, 0.1, 0.01, 0.001, 0.0001]) \n",
        "  hp_lr = hp.Choice('lr', values = [1.0, 0.1, 0.01, 0.001, 0.0001]) \n",
        "  #-------------------------------------------------------------\n",
        "  \n",
        "  model = keras.Sequential()\n",
        "  #-------------------------------------------------------------\n",
        "  # TO-DO: Completa la definición del modelo añadiendo las capas necesarias\n",
        "  \n",
        "  #-------------------------------------------------------------\n",
        "  \n",
        "  model = keras.Sequential()\n",
        "  model.add(keras.layers.Flatten(input_shape=(54,)))\n",
        "  model.add(keras.layers.Dense(units = 50, activation = 'relu', kernel_regularizer=keras.regularizers.l2(hp_lambda)))\n",
        "  model.add(keras.layers.Dense(10, activation=\"softmax\"))\n",
        "\n",
        "  #-------------------------------------------------------------\n",
        "  # TO-DO: Compila el modelo\n",
        "  \n",
        "  model.compile(optimizer=keras.optimizers.Adam(learning_rate=hp_lr), \n",
        "                loss='sparse_categorical_crossentropy',\n",
        "                metrics=['acc'])  \n",
        "\n",
        "  #-------------------------------------------------------------\n",
        "  \n",
        "  return model"
      ],
      "execution_count": null,
      "outputs": []
    },
    {
      "cell_type": "markdown",
      "metadata": {
        "id": "VEuCgZ3b8O2Z"
      },
      "source": [
        "Borrado de la carpeta de logs:"
      ]
    },
    {
      "cell_type": "code",
      "metadata": {
        "id": "wFnAgWQ38OAj"
      },
      "source": [
        "!rm -rf logs-proyecto/keras_tuner"
      ],
      "execution_count": null,
      "outputs": []
    },
    {
      "cell_type": "markdown",
      "metadata": {
        "id": "Kxn9nWN_9D_E"
      },
      "source": [
        "Creación de un ``tuner`` de tipo ``Hyperband`` que usa el hipermodelo anterior. El objetivo a optimizar es la precisión (accuracy) sobre el conjunto de validación. El máximo número de épocas es 10."
      ]
    },
    {
      "cell_type": "code",
      "metadata": {
        "id": "O7axgVjE8wKE"
      },
      "source": [
        "tuner = kt.Hyperband(model_builder,\n",
        "                     objective = 'val_acc', \n",
        "                     max_epochs = 10,\n",
        "                     factor = 3,\n",
        "                     directory = 'logs-proyecto/keras_tuner',\n",
        "                     project_name = 'kt')  "
      ],
      "execution_count": null,
      "outputs": []
    },
    {
      "cell_type": "markdown",
      "metadata": {
        "id": "DwpPmJfh-waF"
      },
      "source": [
        "Resumen del espacio de búsqueda. Comprueba que contiene todos los valores a considerar para cada uno de los hiperparámetros."
      ]
    },
    {
      "cell_type": "code",
      "metadata": {
        "id": "vOKQZDjK8wHC",
        "colab": {
          "base_uri": "https://localhost:8080/"
        },
        "outputId": "78819f28-bd42-4425-9971-5e8436a08ad1"
      },
      "source": [
        "tuner.search_space_summary()"
      ],
      "execution_count": null,
      "outputs": [
        {
          "output_type": "stream",
          "text": [
            "Search space summary\n",
            "Default search space size: 2\n",
            "lambda (Choice)\n",
            "{'default': 1.0, 'conditions': [], 'values': [1.0, 0.1, 0.01, 0.001, 0.0001], 'ordered': True}\n",
            "lr (Choice)\n",
            "{'default': 1.0, 'conditions': [], 'values': [1.0, 0.1, 0.01, 0.001, 0.0001], 'ordered': True}\n"
          ],
          "name": "stdout"
        }
      ]
    },
    {
      "cell_type": "markdown",
      "metadata": {
        "id": "CDs2_CX2L_h1"
      },
      "source": [
        "<font color=\"#CA3532\">[8.2]</font> Divide el conjunto de entrenamiento, de manera aleatoria, en dos subconjuntos. El primero, ``(tr_data, tr_labels)`` contendrá el 70% de los datos y lo usaremos para entrenar los hipermodelos. El segundo, ``(val_data, val_labels)`` contendrá el 30% de los datos y lo usaremos para validar los hipermodelos. Puedes usar [train_test_split](https://scikit-learn.org/stable/modules/generated/sklearn.model_selection.train_test_split.html) de ``sklearn.model_selection``."
      ]
    },
    {
      "cell_type": "code",
      "metadata": {
        "id": "wXmM4FEhMGXF"
      },
      "source": [
        "#-------------------------------------------------------------\n",
        "# TO-DO: Genera los subconjuntos de datos (tr_data, tr_labels) y \n",
        "# (val_data, val_labels)\n",
        "tr_data, val_data, tr_labels, val_labels = train_test_split(x_train, t_train, test_size=0.7, random_state=20, stratify=t_train)\n",
        "#-------------------------------------------------------------"
      ],
      "execution_count": null,
      "outputs": []
    },
    {
      "cell_type": "markdown",
      "metadata": {
        "id": "We4hKqIgAold"
      },
      "source": [
        "<font color=\"#CA3532\">[8.3]</font> Realiza la búsqueda de los hiperparámetros llamando a ``tuner.search`` usando los datos ``tr_data``, ``tr_labels`` como conjunto de entrenamiento y los datos ``val_data``, ``val_labels`` como conjunto de validación: "
      ]
    },
    {
      "cell_type": "code",
      "metadata": {
        "id": "yI6AdJEX8wEK",
        "colab": {
          "base_uri": "https://localhost:8080/"
        },
        "outputId": "ff35809b-39e6-4f79-a7bb-ab9fb0f1ba56"
      },
      "source": [
        "#-------------------------------------------------------------\n",
        "# TO-DO: Realiza la búsqueda de los hiperparámetros\n",
        "#VER NOTEBOOK 10\n",
        "tuner.search(tr_data, tr_labels,\n",
        "             epochs=1,\n",
        "             validation_data=(val_data, val_labels))\n",
        "#-------------------------------------------------------------"
      ],
      "execution_count": null,
      "outputs": [
        {
          "output_type": "stream",
          "text": [
            "Trial 30 Complete [00h 02m 44s]\n",
            "val_acc: 0.7418404221534729\n",
            "\n",
            "Best val_acc So Far: 0.7735584378242493\n",
            "Total elapsed time: 00h 34m 50s\n",
            "INFO:tensorflow:Oracle triggered exit\n"
          ],
          "name": "stdout"
        }
      ]
    },
    {
      "cell_type": "markdown",
      "metadata": {
        "id": "FxhzHBQnDUHl"
      },
      "source": [
        "<font color=\"#CA3532\">[8.4]</font> Selecciona los mejores hiperparámetros, vuelve a entrenar el modelo con todos los datos de entrenamiento y aplícalo al conjunto de test."
      ]
    },
    {
      "cell_type": "code",
      "metadata": {
        "id": "ld-Q8rKVDgCm",
        "colab": {
          "base_uri": "https://localhost:8080/"
        },
        "outputId": "2ef31d1d-e0d8-4ace-89de-472bcce87261"
      },
      "source": [
        "#-------------------------------------------------------------\n",
        "# TO-DO: Selecciona los mejores hiperparámetros, reentrena el modelo con todos\n",
        "# los datos y aplícalo al conjunto de test\n",
        "best_hps = tuner.get_best_hyperparameters()[0]\n",
        "model = tuner.hypermodel.build(best_hps)\n",
        "model.fit(tr_data, tr_labels, epochs = 10, validation_data = (val_data, val_labels))\n",
        "#-------------------------------------------------------------"
      ],
      "execution_count": null,
      "outputs": [
        {
          "output_type": "stream",
          "text": [
            "Epoch 1/10\n",
            "3813/3813 [==============================] - 14s 3ms/step - loss: 0.7164 - acc: 0.7209 - val_loss: 0.6353 - val_acc: 0.7433\n",
            "Epoch 2/10\n",
            "3813/3813 [==============================] - 13s 3ms/step - loss: 0.6143 - acc: 0.7522 - val_loss: 0.6017 - val_acc: 0.7593\n",
            "Epoch 3/10\n",
            "3813/3813 [==============================] - 13s 3ms/step - loss: 0.5906 - acc: 0.7617 - val_loss: 0.5913 - val_acc: 0.7608\n",
            "Epoch 4/10\n",
            "3813/3813 [==============================] - 13s 3ms/step - loss: 0.5766 - acc: 0.7678 - val_loss: 0.5764 - val_acc: 0.7644\n",
            "Epoch 5/10\n",
            "3813/3813 [==============================] - 16s 4ms/step - loss: 0.5666 - acc: 0.7698 - val_loss: 0.5679 - val_acc: 0.7678\n",
            "Epoch 6/10\n",
            "3813/3813 [==============================] - 16s 4ms/step - loss: 0.5589 - acc: 0.7726 - val_loss: 0.5578 - val_acc: 0.7751\n",
            "Epoch 7/10\n",
            "3813/3813 [==============================] - 13s 3ms/step - loss: 0.5542 - acc: 0.7743 - val_loss: 0.5613 - val_acc: 0.7723\n",
            "Epoch 8/10\n",
            "3813/3813 [==============================] - 13s 3ms/step - loss: 0.5495 - acc: 0.7763 - val_loss: 0.5499 - val_acc: 0.7756\n",
            "Epoch 9/10\n",
            "3813/3813 [==============================] - 13s 3ms/step - loss: 0.5454 - acc: 0.7777 - val_loss: 0.5496 - val_acc: 0.7767\n",
            "Epoch 10/10\n",
            "3813/3813 [==============================] - 13s 3ms/step - loss: 0.5423 - acc: 0.7807 - val_loss: 0.5422 - val_acc: 0.7814\n"
          ],
          "name": "stdout"
        },
        {
          "output_type": "execute_result",
          "data": {
            "text/plain": [
              "<tensorflow.python.keras.callbacks.History at 0x7fa3cf2a7a50>"
            ]
          },
          "metadata": {
            "tags": []
          },
          "execution_count": 121
        }
      ]
    },
    {
      "cell_type": "code",
      "metadata": {
        "colab": {
          "base_uri": "https://localhost:8080/"
        },
        "id": "3-MvKvr3eKxR",
        "outputId": "d0d6f188-1ce0-45e8-fd7d-b337b20da97b"
      },
      "source": [
        "print(best_hps)"
      ],
      "execution_count": null,
      "outputs": [
        {
          "output_type": "stream",
          "text": [
            "<keras_tuner.engine.hyperparameters.HyperParameters object at 0x7fa3efd45910>\n"
          ],
          "name": "stdout"
        }
      ]
    },
    {
      "cell_type": "markdown",
      "metadata": {
        "id": "OVvprGNGwccu"
      },
      "source": [
        "#### <font color=\"#CA3532\">Ejercicio 9</font> [1 punto]\n",
        "\n",
        "Construye una red neuronal para el problema Forest Covertypes, realizando una búsqueda lo más completa posible de los hiperparámetros con el \n",
        "[HParams Dashboard](https://www.tensorflow.org/tensorboard/hyperparameter_tuning_with_hparams) de ``tensorboard`` y usando una validación cruzada de 5 *folds*. Debes considerar, al menos, los siguientes hiperparámetros:\n",
        "\n",
        "- Learning rate.\n",
        "- Número de capas ocultas.\n",
        "- Número de unidades en las capas ocultas.\n",
        "- Algún parámetro de regularización. \n",
        "- Optimizador.\n",
        "\n",
        "Completa el código de las celdas siguientes en los lugares indicados."
      ]
    },
    {
      "cell_type": "code",
      "metadata": {
        "id": "CesN0Q05qv5i"
      },
      "source": [
        "from tensorboard.plugins.hparams import api as hp\n",
        "from sklearn.model_selection import StratifiedKFold"
      ],
      "execution_count": null,
      "outputs": []
    },
    {
      "cell_type": "markdown",
      "metadata": {
        "id": "AyNivWa2GmlD"
      },
      "source": [
        "<font color=\"#CA3532\">[9.1]</font> Define el hipermodelo. Recuerda que debes hacer validación cruzada de ``5-folds`` y que la métrica ``accuracy`` se debe calcular como un promedio sobre las 5 particiones de validación.  "
      ]
    },
    {
      "cell_type": "code",
      "metadata": {
        "id": "_abAcOlnGu9v"
      },
      "source": [
        "def train_test_model(hparams):\n",
        "\n",
        "  # Validación cruzada de 5-folds\n",
        "  kfold = StratifiedKFold(n_splits=5, shuffle=True, random_state=13)\n",
        "\n",
        "  # Bucle en folds:\n",
        "  mean_accuracy = 0.0\n",
        "  for itrain, itest in kfold.split(x_train, t_train):\n",
        "    model = keras.Sequential([\n",
        "    #-------------------------------------------------------------\n",
        "    # TO-DO: Completa la definición del modelo añadiendo las capas necesarias\n",
        "      \n",
        "    #-------------------------------------------------------------\n",
        "      tf.keras.layers.Flatten(input_shape=(54,)),\n",
        "      tf.keras.layers.Dense(hparams['num_units'], activation=tf.nn.relu, kernel_regularizer=keras.regularizers.l2(hparams['lambda'])),\n",
        "      tf.keras.layers.Dense(10, activation=tf.nn.softmax)                       \n",
        "    ])\n",
        "    #-------------------------------------------------------------\n",
        "    # TO-DO: Compila el modelo\n",
        "    \n",
        "    #-------------------------------------------------------------\n",
        "    model.compile(\n",
        "        optimizer=keras.optimizers.Adam(learning_rate=hparams['learning_rate']),\n",
        "        loss='sparse_categorical_crossentropy',\n",
        "        metrics=['accuracy'],\n",
        "    )\n",
        "    #-------------------------------------------------------------\n",
        "    # TO-DO: Entrena el modelo usando los índices itrain\n",
        "    \n",
        "    #-------------------------------------------------------------\n",
        "    model.fit(x_train[itrain], t_train[itrain], epochs=3) \n",
        "    #-------------------------------------------------------------\n",
        "    # TO-DO: Evalúa el modelo usando los índices itest y calcula el accuracy\n",
        "    _, acc = model.evaluate(x_train[itest], t_train[itest])\n",
        "    #-------------------------------------------------------------\n",
        "    \n",
        "    # Acumulamos el accuracy:\n",
        "    mean_accuracy += acc\n",
        "  \n",
        "  return mean_accuracy/5.0"
      ],
      "execution_count": null,
      "outputs": []
    },
    {
      "cell_type": "markdown",
      "metadata": {
        "id": "gvHOGnkxVC6g"
      },
      "source": [
        "Función para ejecutar las pruebas con un hipermodelo:"
      ]
    },
    {
      "cell_type": "code",
      "metadata": {
        "id": "C-JpcdrYHbkI"
      },
      "source": [
        "def run(run_dir, hparams):\n",
        "  with tf.summary.create_file_writer(run_dir).as_default():\n",
        "    hp.hparams(hparams) \n",
        "    accuracy = train_test_model(hparams)\n",
        "    tf.summary.scalar('accuracy', accuracy, step=1)"
      ],
      "execution_count": null,
      "outputs": []
    },
    {
      "cell_type": "markdown",
      "metadata": {
        "id": "UiVehQe7ZalQ"
      },
      "source": [
        "Borrado de la carpeta de logs:"
      ]
    },
    {
      "cell_type": "code",
      "metadata": {
        "id": "KK6eLpj7ZZq0"
      },
      "source": [
        "!rm -rf logs-proyecto/hparam"
      ],
      "execution_count": null,
      "outputs": []
    },
    {
      "cell_type": "markdown",
      "metadata": {
        "id": "V8VrqQG-VQzm"
      },
      "source": [
        "<font color=\"#CA3532\">[9.2]</font> Ejecuta los hipermodelos en bucle:"
      ]
    },
    {
      "cell_type": "code",
      "metadata": {
        "id": "viYpu23CHbhl"
      },
      "source": [
        "session_num = 0\n",
        "\n",
        "#-------------------------------------------------------------\n",
        "# TO-DO: Crea el bucle que genera y evalúa los hipermodelos. A modo de \n",
        "# ejemplo se incluye un bucle para num_units\n",
        "for num_units in [32, 64, 96, 128]:\n",
        "  for llambda in [0.001, 0.0001]:\n",
        "    for lr in [1.0, 0.1, 0.01, 0.001]:\n",
        "      hparams = {\n",
        "          'num_units': num_units,\n",
        "          'lambda': llambda,\n",
        "          'learning_rate': lr,\n",
        "      }\n",
        "      run_name = \"run-%d\" % session_num\n",
        "      print('--- Starting trial: %s' % run_name)\n",
        "      print(hparams)\n",
        "      run('logs/hparam_tuning_v3/' + run_name, hparams)\n",
        "      session_num += 1\n",
        "#-------------------------------------------------------------"
      ],
      "execution_count": null,
      "outputs": []
    },
    {
      "cell_type": "markdown",
      "metadata": {
        "id": "XR1kmm8H0_0U"
      },
      "source": [
        "Usa [tensorboard dev](https://tensorboard.dev/) para subir los logs generados a la nube (tendrás que autorizar a google para que publique los datos en tu cuenta). "
      ]
    },
    {
      "cell_type": "code",
      "metadata": {
        "id": "V2kgWVzg0zai"
      },
      "source": [
        "!tensorboard dev upload --logdir logs-proyecto/hparam --name \"Ejercicio 9\" \\\n",
        "    --description \"Comparación de hiperparámetros\" --one_shot"
      ],
      "execution_count": null,
      "outputs": []
    },
    {
      "cell_type": "markdown",
      "metadata": {
        "id": "YkUNBfHH3YRC"
      },
      "source": [
        "Tras ejecutar la celda anterior obtendrás un enlace para acceder al tensorboard con los resultados de tus pruebas. Copia el enlace a continuación para que pueda revisar las pruebas que has realizado."
      ]
    },
    {
      "cell_type": "code",
      "metadata": {
        "id": "Pb_k-n2i3x7S"
      },
      "source": [
        "#-------------------------------------------------------------\n",
        "# TO-DO: Copia el enlace a tu TensorBoard, por ejemplo\n",
        "https://tensorboard.dev/experiment/S6eHBD7JToaomCycY6CNcA/#scalars\n",
        "#-------------------------------------------------------------"
      ],
      "execution_count": null,
      "outputs": []
    },
    {
      "cell_type": "markdown",
      "metadata": {
        "id": "cXWMlgklaF_Y"
      },
      "source": [
        "<font color=\"#CA3532\">[9.3]</font> Selecciona los mejores hiperparámetros, vuelve a entrenar el modelo con todos los datos de entrenamiento y aplícalo al conjunto de test."
      ]
    },
    {
      "cell_type": "code",
      "metadata": {
        "id": "uVTopZxAZ_zB"
      },
      "source": [
        "#-------------------------------------------------------------\n",
        "# TO-DO: Selecciona los mejores hiperparámetros, reentrena el modelo con todos\n",
        "# los datos y aplícalo al conjunto de test\n",
        "\n",
        "#VER NOTEBOOK 11 PARA HACERLO\n",
        "best_hp = tuner.get_best_hyperparameters()[0]\n",
        "model = tuner.hypermodel.build(best_hp)\n",
        "model.fit(tr_data, tr_labels, epochs = 10, validation_data = (val_data, val_labels))\n",
        "#-------------------------------------------------------------"
      ],
      "execution_count": null,
      "outputs": []
    },
    {
      "cell_type": "markdown",
      "metadata": {
        "id": "KSxX2bU_Poo_"
      },
      "source": [
        "### <font color=\"#CA3532\">Parte IV: Redes neuronales aplicadas a un problema real</font>\n",
        "\n",
        "El objetivo de esta parte de la práctica es obtener el mejor modelo posible para el problema Forest Covertypes."
      ]
    },
    {
      "cell_type": "markdown",
      "metadata": {
        "id": "MFKxbrt7djOj"
      },
      "source": [
        "#### <font color=\"#CA3532\">Ejercicio 10</font> [1 punto]\n",
        "\n",
        "Entrena un modelo para el problema Forest Covertypes.\n",
        "\n",
        "Entrena una red neuronal para el problema Forest Covertypes. El modelo se debe entrenar y validar usando sólo los datos de training, y posteriormente se deben evaluar los resultados del mismo sobre el conjunto de test. Se valorarán, entre otras cosas, los siguientes puntos:\n",
        "\n",
        "El análisis inicial del problema y el tratamiento inicial de los datos.\n",
        "\n",
        "La correcta selección de los hiperparámetros del modelo y la validación de los resultados.\n",
        "\n",
        "Los resultados obtenidos sobre el conjunto de test, así como la visualización e interpretación de los mismos.\n",
        "\n",
        "Las conclusiones finales."
      ]
    },
    {
      "cell_type": "code",
      "metadata": {
        "id": "gq4Qm0RiNjyV"
      },
      "source": [
        "#Analisis del problema. Cogemos dos conjuntos de datos los cuales trateremos y seleccionaremos los mejores hiperparametros que nos ofrece el modelo.\n",
        "#Este modelo lo entrenaremos sobre el conjunto de datos wl cual nos proporcionara la mejor precision. \n",
        "\n",
        "def constructor(hp):\n",
        "  #-------------------------------------------------------------\n",
        "  # TO-DO: Incluye aquí los hiperparámetros a optimizar y sus posibles\n",
        "  # valores. Como ejemplo se muestra el learning rate\n",
        "  hiper_lambda = hp.Choice('lambda', values = [1.0, 0.1, 0.01, 0.001, 0.0001]) \n",
        "  hiper_lr = hp.Choice('lr', values = [1.0, 0.1, 0.01, 0.001, 0.0001]) \n",
        "  #-------------------------------------------------------------\n",
        "  \n",
        "  model = keras.Sequential()\n",
        "  #-------------------------------------------------------------\n",
        "  # TO-DO: Completa la definición del modelo añadiendo las capas necesarias\n",
        "  \n",
        "  #-------------------------------------------------------------\n",
        "  \n",
        "  model = keras.Sequential()\n",
        "  model.add(keras.layers.Flatten(input_shape=(54,)))\n",
        "  model.add(keras.layers.Dense(units = 50, activation = 'relu', kernel_regularizer=keras.regularizers.l2(hiper_lambda)))\n",
        "  model.add(keras.layers.Dense(10, activation=\"softmax\"))\n",
        "\n",
        "  #-------------------------------------------------------------\n",
        "  # TO-DO: Compila el modelo\n",
        "  \n",
        "  model.compile(optimizer=keras.optimizers.Adam(learning_rate=hiper_lr), \n",
        "                loss='sparse_categorical_crossentropy',\n",
        "                metrics=['acc'])  \n",
        "\n",
        "  #-------------------------------------------------------------\n",
        "  \n",
        "  return model"
      ],
      "execution_count": null,
      "outputs": []
    },
    {
      "cell_type": "code",
      "metadata": {
        "id": "zWp4brHaTMhZ"
      },
      "source": [
        "##Borro los logs\n",
        "!rm -rf logs-proyecto/keras_tuner"
      ],
      "execution_count": null,
      "outputs": []
    },
    {
      "cell_type": "code",
      "metadata": {
        "id": "opOSG_LYTw2G"
      },
      "source": [
        "##Optimizo la precision sobre la validacion\n",
        "tuner = kt.Hyperband(constructor,\n",
        "                     objective = 'val_acc', \n",
        "                     max_epochs = 10,\n",
        "                     factor = 3,\n",
        "                     directory = 'logs-proyecto/keras_tuner',\n",
        "                     project_name = 'kt')  "
      ],
      "execution_count": null,
      "outputs": []
    },
    {
      "cell_type": "code",
      "metadata": {
        "id": "BpstgtoDWEO5"
      },
      "source": [
        "#compruebo que tiene todos los datos para cada uno de los hiperparametros\n",
        "tuner.search_space_summary()"
      ],
      "execution_count": null,
      "outputs": []
    },
    {
      "cell_type": "code",
      "metadata": {
        "id": "V5-DjQOMWjFI"
      },
      "source": [
        "#Busco los hiperparametros con Truner\n",
        "tuner.search(tr_data, tr_labels,\n",
        "             epochs=1,\n",
        "             validation_data=(val_data, val_labels))"
      ],
      "execution_count": null,
      "outputs": []
    },
    {
      "cell_type": "code",
      "metadata": {
        "id": "mb5r_eADWm8x"
      },
      "source": [
        "#Selecciono los mejores hiperparametros y reentreno\n",
        "best_hps = tuner.get_best_hyperparameters()[0]\n",
        "model = tuner.hypermodel.build(best_hps)\n",
        "model.fit(tr_data, tr_labels, epochs = 10, validation_data = (val_data, val_labels))"
      ],
      "execution_count": null,
      "outputs": []
    },
    {
      "cell_type": "code",
      "metadata": {
        "id": "5aL1_9HxW5ki"
      },
      "source": [
        "print(best_hps)"
      ],
      "execution_count": null,
      "outputs": []
    },
    {
      "cell_type": "markdown",
      "metadata": {
        "id": "6i72GTSAi85Q"
      },
      "source": [
        "PONER LAS CONCLUSIONES FINALES"
      ]
    }
  ]
}