{
 "metadata": {
  "language_info": {
   "codemirror_mode": {
    "name": "ipython",
    "version": 3
   },
   "file_extension": ".py",
   "mimetype": "text/x-python",
   "name": "python",
   "nbconvert_exporter": "python",
   "pygments_lexer": "ipython3",
   "version": "3.8.5"
  },
  "orig_nbformat": 2,
  "kernelspec": {
   "name": "python385jvsc74a57bd0642ed197f51b4a6f70d3007f365abeb4e11cf6d289847988e1cf6d37c781e715",
   "display_name": "Python 3.8.5 64-bit ('base': conda)"
  }
 },
 "nbformat": 4,
 "nbformat_minor": 2,
 "cells": [
  {
   "cell_type": "code",
   "execution_count": 1,
   "metadata": {},
   "outputs": [
    {
     "output_type": "stream",
     "name": "stderr",
     "text": [
      "UsageError: Line magic function `%tensorflow_version` not found.\n"
     ]
    }
   ],
   "source": [
    "%tensorflow_version 2.x\n",
    "import tensorflow as tf\n",
    "from tensorflow import keras\n",
    "import numpy as np\n",
    "import pandas as pd\n",
    "import matplotlib.pyplot as plt\n",
    "from mpl_toolkits import mplot3d\n",
    "import pickle\n",
    "from sklearn.model_selection import train_test_split\n",
    "from sklearn.preprocessing import StandardScaler"
   ]
  },
  {
   "cell_type": "code",
   "execution_count": 2,
   "metadata": {},
   "outputs": [],
   "source": [
    "import numpy as np\n",
    "from sklearn.model_selection import train_test_split\n",
    "from sklearn.preprocessing import StandardScaler\n",
    "import pandas as pd\n",
    "import tensorflow\n",
    "from tensorflow import keras"
   ]
  },
  {
   "cell_type": "code",
   "execution_count": 3,
   "metadata": {},
   "outputs": [
    {
     "output_type": "stream",
     "name": "stdout",
     "text": [
      "Requirement already up-to-date: tensorflow in c:\\users\\ignac\\anaconda3\\lib\\site-packages (2.5.0)\nRequirement already satisfied, skipping upgrade: opt-einsum~=3.3.0 in c:\\users\\ignac\\anaconda3\\lib\\site-packages (from tensorflow) (3.3.0)\nRequirement already satisfied, skipping upgrade: h5py~=3.1.0 in c:\\users\\ignac\\anaconda3\\lib\\site-packages (from tensorflow) (3.1.0)\nRequirement already satisfied, skipping upgrade: typing-extensions~=3.7.4 in c:\\users\\ignac\\anaconda3\\lib\\site-packages (from tensorflow) (3.7.4.3)\nRequirement already satisfied, skipping upgrade: termcolor~=1.1.0 in c:\\users\\ignac\\anaconda3\\lib\\site-packages (from tensorflow) (1.1.0)\nRequirement already satisfied, skipping upgrade: protobuf>=3.9.2 in c:\\users\\ignac\\anaconda3\\lib\\site-packages (from tensorflow) (3.15.8)\nRequirement already satisfied, skipping upgrade: absl-py~=0.10 in c:\\users\\ignac\\anaconda3\\lib\\site-packages (from tensorflow) (0.12.0)\nRequirement already satisfied, skipping upgrade: astunparse~=1.6.3 in c:\\users\\ignac\\anaconda3\\lib\\site-packages (from tensorflow) (1.6.3)\nRequirement already satisfied, skipping upgrade: wheel~=0.35 in c:\\users\\ignac\\anaconda3\\lib\\site-packages (from tensorflow) (0.35.1)\nRequirement already satisfied, skipping upgrade: keras-nightly~=2.5.0.dev in c:\\users\\ignac\\anaconda3\\lib\\site-packages (from tensorflow) (2.5.0.dev2021032900)\nRequirement already satisfied, skipping upgrade: gast==0.4.0 in c:\\users\\ignac\\anaconda3\\lib\\site-packages (from tensorflow) (0.4.0)\nRequirement already satisfied, skipping upgrade: tensorboard~=2.5 in c:\\users\\ignac\\anaconda3\\lib\\site-packages (from tensorflow) (2.5.0)\nRequirement already satisfied, skipping upgrade: grpcio~=1.34.0 in c:\\users\\ignac\\anaconda3\\lib\\site-packages (from tensorflow) (1.34.1)\nRequirement already satisfied, skipping upgrade: flatbuffers~=1.12.0 in c:\\users\\ignac\\anaconda3\\lib\\site-packages (from tensorflow) (1.12)\nRequirement already satisfied, skipping upgrade: google-pasta~=0.2 in c:\\users\\ignac\\anaconda3\\lib\\site-packages (from tensorflow) (0.2.0)\nRequirement already satisfied, skipping upgrade: tensorflow-estimator<2.6.0,>=2.5.0rc0 in c:\\users\\ignac\\anaconda3\\lib\\site-packages (from tensorflow) (2.5.0)\nRequirement already satisfied, skipping upgrade: six~=1.15.0 in c:\\users\\ignac\\anaconda3\\lib\\site-packages (from tensorflow) (1.15.0)\nRequirement already satisfied, skipping upgrade: keras-preprocessing~=1.1.2 in c:\\users\\ignac\\anaconda3\\lib\\site-packages (from tensorflow) (1.1.2)\nRequirement already satisfied, skipping upgrade: wrapt~=1.12.1 in c:\\users\\ignac\\anaconda3\\lib\\site-packages (from tensorflow) (1.12.1)\nRequirement already satisfied, skipping upgrade: numpy~=1.19.2 in c:\\users\\ignac\\anaconda3\\lib\\site-packages (from tensorflow) (1.19.5)\nRequirement already satisfied, skipping upgrade: google-auth-oauthlib<0.5,>=0.4.1 in c:\\users\\ignac\\anaconda3\\lib\\site-packages (from tensorboard~=2.5->tensorflow) (0.4.4)\nRequirement already satisfied, skipping upgrade: setuptools>=41.0.0 in c:\\users\\ignac\\anaconda3\\lib\\site-packages (from tensorboard~=2.5->tensorflow) (50.3.1.post20201107)\nRequirement already satisfied, skipping upgrade: werkzeug>=0.11.15 in c:\\users\\ignac\\anaconda3\\lib\\site-packages (from tensorboard~=2.5->tensorflow) (1.0.1)\nRequirement already satisfied, skipping upgrade: tensorboard-plugin-wit>=1.6.0 in c:\\users\\ignac\\anaconda3\\lib\\site-packages (from tensorboard~=2.5->tensorflow) (1.8.0)\nRequirement already satisfied, skipping upgrade: google-auth<2,>=1.6.3 in c:\\users\\ignac\\anaconda3\\lib\\site-packages (from tensorboard~=2.5->tensorflow) (1.30.1)\nRequirement already satisfied, skipping upgrade: markdown>=2.6.8 in c:\\users\\ignac\\anaconda3\\lib\\site-packages (from tensorboard~=2.5->tensorflow) (3.3.4)\nRequirement already satisfied, skipping upgrade: tensorboard-data-server<0.7.0,>=0.6.0 in c:\\users\\ignac\\anaconda3\\lib\\site-packages (from tensorboard~=2.5->tensorflow) (0.6.1)\nRequirement already satisfied, skipping upgrade: requests<3,>=2.21.0 in c:\\users\\ignac\\anaconda3\\lib\\site-packages (from tensorboard~=2.5->tensorflow) (2.24.0)\nRequirement already satisfied, skipping upgrade: requests-oauthlib>=0.7.0 in c:\\users\\ignac\\anaconda3\\lib\\site-packages (from google-auth-oauthlib<0.5,>=0.4.1->tensorboard~=2.5->tensorflow) (1.3.0)\nRequirement already satisfied, skipping upgrade: cachetools<5.0,>=2.0.0 in c:\\users\\ignac\\anaconda3\\lib\\site-packages (from google-auth<2,>=1.6.3->tensorboard~=2.5->tensorflow) (4.2.2)\nRequirement already satisfied, skipping upgrade: rsa<5,>=3.1.4; python_version >= \"3.6\" in c:\\users\\ignac\\anaconda3\\lib\\site-packages (from google-auth<2,>=1.6.3->tensorboard~=2.5->tensorflow) (4.7.2)\nRequirement already satisfied, skipping upgrade: pyasn1-modules>=0.2.1 in c:\\users\\ignac\\anaconda3\\lib\\site-packages (from google-auth<2,>=1.6.3->tensorboard~=2.5->tensorflow) (0.2.8)\nRequirement already satisfied, skipping upgrade: urllib3!=1.25.0,!=1.25.1,<1.26,>=1.21.1 in c:\\users\\ignac\\anaconda3\\lib\\site-packages (from requests<3,>=2.21.0->tensorboard~=2.5->tensorflow) (1.25.11)\nRequirement already satisfied, skipping upgrade: chardet<4,>=3.0.2 in c:\\users\\ignac\\anaconda3\\lib\\site-packages (from requests<3,>=2.21.0->tensorboard~=2.5->tensorflow) (3.0.4)\nRequirement already satisfied, skipping upgrade: idna<3,>=2.5 in c:\\users\\ignac\\anaconda3\\lib\\site-packages (from requests<3,>=2.21.0->tensorboard~=2.5->tensorflow) (2.10)\nRequirement already satisfied, skipping upgrade: certifi>=2017.4.17 in c:\\users\\ignac\\anaconda3\\lib\\site-packages (from requests<3,>=2.21.0->tensorboard~=2.5->tensorflow) (2020.6.20)\nRequirement already satisfied, skipping upgrade: oauthlib>=3.0.0 in c:\\users\\ignac\\anaconda3\\lib\\site-packages (from requests-oauthlib>=0.7.0->google-auth-oauthlib<0.5,>=0.4.1->tensorboard~=2.5->tensorflow) (3.1.0)\nRequirement already satisfied, skipping upgrade: pyasn1>=0.1.3 in c:\\users\\ignac\\anaconda3\\lib\\site-packages (from rsa<5,>=3.1.4; python_version >= \"3.6\"->google-auth<2,>=1.6.3->tensorboard~=2.5->tensorflow) (0.4.8)\nNote: you may need to restart the kernel to use updated packages.\n"
     ]
    }
   ],
   "source": [
    "pip install --upgrade tensorflow"
   ]
  },
  {
   "cell_type": "code",
   "execution_count": 5,
   "metadata": {},
   "outputs": [],
   "source": [
    "from sklearn.datasets import fetch_covtype\n",
    "data = fetch_covtype()\n",
    "x = data.data\n",
    "t = data.target - 1"
   ]
  },
  {
   "cell_type": "code",
   "execution_count": 11,
   "metadata": {},
   "outputs": [
    {
     "output_type": "stream",
     "name": "stdout",
     "text": [
      "(581012, 54)\n(581012,)\n[0 1 2 3 4 5 6]\n"
     ]
    }
   ],
   "source": [
    "print(x.shape)\n",
    "print(t.shape)\n",
    "print(np.unique(t))"
   ]
  },
  {
   "cell_type": "code",
   "execution_count": 52,
   "metadata": {},
   "outputs": [],
   "source": [
    "#Train - test\n",
    "ntrain=400000\n",
    "x_train=x[:ntrain]\n",
    "t_train=t[:ntrain]\n",
    "x_test=x[:ntrain]\n",
    "t_test=t[:ntrain]\n",
    "\n",
    "# Particion entrenamiento-test:\n",
    "x_train, x_test, t_train, t_test = train_test_split(x, t, test_size=0.3, random_state=23)\n",
    "\n",
    "# Estandarizacion:\n",
    "scaler = StandardScaler()\n",
    "x_train = scaler.fit_transform(x_train)\n",
    "x_test = scaler.transform(x_test)\n",
    "\n",
    "# Volvemos a las dimensiones originales:\n",
    "\"x_train = x_train.T\n",
    "x_test = x_test.T\n",
    "t_train = t_train.T\n",
    "t_test = t_test.T\""
   ]
  },
  {
   "cell_type": "code",
   "execution_count": 54,
   "metadata": {},
   "outputs": [
    {
     "output_type": "error",
     "ename": "ValueError",
     "evalue": "operands could not be broadcast together with shapes (54,406708) (174304,) ",
     "traceback": [
      "\u001b[1;31m---------------------------------------------------------------------------\u001b[0m",
      "\u001b[1;31mValueError\u001b[0m                                Traceback (most recent call last)",
      "\u001b[1;32m<ipython-input-54-dc440c93e33b>\u001b[0m in \u001b[0;36m<module>\u001b[1;34m\u001b[0m\n\u001b[0;32m      2\u001b[0m \u001b[0mm\u001b[0m\u001b[1;33m=\u001b[0m\u001b[0mx_train\u001b[0m\u001b[1;33m.\u001b[0m\u001b[0mmean\u001b[0m\u001b[1;33m(\u001b[0m\u001b[0maxis\u001b[0m\u001b[1;33m=\u001b[0m\u001b[1;36m0\u001b[0m\u001b[1;33m)\u001b[0m\u001b[1;33m\u001b[0m\u001b[1;33m\u001b[0m\u001b[0m\n\u001b[0;32m      3\u001b[0m \u001b[0ms\u001b[0m\u001b[1;33m=\u001b[0m\u001b[0mx_test\u001b[0m\u001b[1;33m.\u001b[0m\u001b[0mmean\u001b[0m\u001b[1;33m(\u001b[0m\u001b[0maxis\u001b[0m\u001b[1;33m=\u001b[0m\u001b[1;36m0\u001b[0m\u001b[1;33m)\u001b[0m\u001b[1;33m\u001b[0m\u001b[1;33m\u001b[0m\u001b[0m\n\u001b[1;32m----> 4\u001b[1;33m \u001b[0mx_train\u001b[0m\u001b[1;33m=\u001b[0m\u001b[1;33m(\u001b[0m\u001b[0mx_train\u001b[0m \u001b[1;33m-\u001b[0m \u001b[0mm\u001b[0m\u001b[1;33m)\u001b[0m\u001b[1;33m/\u001b[0m\u001b[0ms\u001b[0m\u001b[1;33m\u001b[0m\u001b[1;33m\u001b[0m\u001b[0m\n\u001b[0m\u001b[0;32m      5\u001b[0m \u001b[0mx_test\u001b[0m\u001b[1;33m=\u001b[0m\u001b[1;33m(\u001b[0m\u001b[0mx_test\u001b[0m \u001b[1;33m-\u001b[0m \u001b[0mm\u001b[0m\u001b[1;33m)\u001b[0m\u001b[1;33m/\u001b[0m\u001b[0ms\u001b[0m\u001b[1;33m\u001b[0m\u001b[1;33m\u001b[0m\u001b[0m\n",
      "\u001b[1;31mValueError\u001b[0m: operands could not be broadcast together with shapes (54,406708) (174304,) "
     ]
    }
   ],
   "source": [
    "#estandarizo los datos\n",
    "m=x_train.mean(axis=0)\n",
    "s=x_test.mean(axis=0)\n",
    "x_train=(x_train - m)/s\n",
    "x_test=(x_test - m)/s"
   ]
  },
  {
   "cell_type": "code",
   "execution_count": 50,
   "metadata": {},
   "outputs": [],
   "source": [
    "model = keras.Sequential()\n",
    "#meter aqui las capas de las redes neuronales\n",
    "model.add(keras.layers.Dense())"
   ]
  },
  {
   "cell_type": "code",
   "execution_count": 51,
   "metadata": {},
   "outputs": [],
   "source": [
    "model=model.compile(optimizer=keras.optimizers.SGD(learning_rate=0.01), \n",
    "              loss='categorical_crossentropy',\n",
    "              metrics=['acc'])"
   ]
  },
  {
   "cell_type": "code",
   "execution_count": null,
   "metadata": {},
   "outputs": [],
   "source": []
  }
 ]
}